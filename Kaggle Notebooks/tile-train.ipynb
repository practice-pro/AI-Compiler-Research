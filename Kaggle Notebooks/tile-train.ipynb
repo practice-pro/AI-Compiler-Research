{
 "cells": [
  {
   "cell_type": "code",
   "execution_count": 1,
   "id": "8bfa6c13",
   "metadata": {
    "_cell_guid": "b1076dfc-b9ad-4769-8c92-a6c4dae69d19",
    "_uuid": "8f2839f25d086af736a60e9eeb907d3b93b6e0e5",
    "execution": {
     "iopub.execute_input": "2023-11-08T23:02:44.609411Z",
     "iopub.status.busy": "2023-11-08T23:02:44.609031Z",
     "iopub.status.idle": "2023-11-08T23:02:44.905379Z",
     "shell.execute_reply": "2023-11-08T23:02:44.904644Z"
    },
    "papermill": {
     "duration": 0.304808,
     "end_time": "2023-11-08T23:02:44.907689",
     "exception": false,
     "start_time": "2023-11-08T23:02:44.602881",
     "status": "completed"
    },
    "tags": []
   },
   "outputs": [],
   "source": [
    "import numpy as np\n",
    "import pandas as pd "
   ]
  },
  {
   "cell_type": "code",
   "execution_count": 2,
   "id": "967e65b7",
   "metadata": {
    "execution": {
     "iopub.execute_input": "2023-11-08T23:02:44.920177Z",
     "iopub.status.busy": "2023-11-08T23:02:44.919663Z",
     "iopub.status.idle": "2023-11-08T23:02:55.706818Z",
     "shell.execute_reply": "2023-11-08T23:02:55.706174Z"
    },
    "papermill": {
     "duration": 10.794776,
     "end_time": "2023-11-08T23:02:55.708866",
     "exception": false,
     "start_time": "2023-11-08T23:02:44.914090",
     "status": "completed"
    },
    "tags": []
   },
   "outputs": [
    {
     "name": "stdout",
     "output_type": "stream",
     "text": [
      "Requirement already satisfied: torch in /opt/conda/lib/python3.10/site-packages (2.0.0+cpu)\r\n",
      "Requirement already satisfied: filelock in /opt/conda/lib/python3.10/site-packages (from torch) (3.12.2)\r\n",
      "Requirement already satisfied: typing-extensions in /opt/conda/lib/python3.10/site-packages (from torch) (4.6.3)\r\n",
      "Requirement already satisfied: sympy in /opt/conda/lib/python3.10/site-packages (from torch) (1.12)\r\n",
      "Requirement already satisfied: networkx in /opt/conda/lib/python3.10/site-packages (from torch) (3.1)\r\n",
      "Requirement already satisfied: jinja2 in /opt/conda/lib/python3.10/site-packages (from torch) (3.1.2)\r\n",
      "Requirement already satisfied: MarkupSafe>=2.0 in /opt/conda/lib/python3.10/site-packages (from jinja2->torch) (2.1.3)\r\n",
      "Requirement already satisfied: mpmath>=0.19 in /opt/conda/lib/python3.10/site-packages (from sympy->torch) (1.3.0)\r\n",
      "Note: you may need to restart the kernel to use updated packages.\n"
     ]
    }
   ],
   "source": [
    "pip install torch"
   ]
  },
  {
   "cell_type": "code",
   "execution_count": 3,
   "id": "fcdcb14b",
   "metadata": {
    "execution": {
     "iopub.execute_input": "2023-11-08T23:02:55.719291Z",
     "iopub.status.busy": "2023-11-08T23:02:55.718952Z",
     "iopub.status.idle": "2023-11-08T23:03:06.117729Z",
     "shell.execute_reply": "2023-11-08T23:03:06.116563Z"
    },
    "papermill": {
     "duration": 10.406754,
     "end_time": "2023-11-08T23:03:06.120183",
     "exception": false,
     "start_time": "2023-11-08T23:02:55.713429",
     "status": "completed"
    },
    "tags": []
   },
   "outputs": [
    {
     "name": "stdout",
     "output_type": "stream",
     "text": [
      "Collecting torch-geometric\r\n",
      "  Downloading torch_geometric-2.4.0-py3-none-any.whl (1.0 MB)\r\n",
      "\u001b[2K     \u001b[90m━━━━━━━━━━━━━━━━━━━━━━━━━━━━━━━━━━━━━━━━\u001b[0m \u001b[32m1.0/1.0 MB\u001b[0m \u001b[31m28.3 MB/s\u001b[0m eta \u001b[36m0:00:00\u001b[0m\r\n",
      "\u001b[?25hRequirement already satisfied: tqdm in /opt/conda/lib/python3.10/site-packages (from torch-geometric) (4.66.1)\r\n",
      "Requirement already satisfied: numpy in /opt/conda/lib/python3.10/site-packages (from torch-geometric) (1.23.5)\r\n",
      "Requirement already satisfied: scipy in /opt/conda/lib/python3.10/site-packages (from torch-geometric) (1.11.2)\r\n",
      "Requirement already satisfied: jinja2 in /opt/conda/lib/python3.10/site-packages (from torch-geometric) (3.1.2)\r\n",
      "Requirement already satisfied: requests in /opt/conda/lib/python3.10/site-packages (from torch-geometric) (2.31.0)\r\n",
      "Requirement already satisfied: pyparsing in /opt/conda/lib/python3.10/site-packages (from torch-geometric) (3.0.9)\r\n",
      "Requirement already satisfied: scikit-learn in /opt/conda/lib/python3.10/site-packages (from torch-geometric) (1.2.2)\r\n",
      "Requirement already satisfied: psutil>=5.8.0 in /opt/conda/lib/python3.10/site-packages (from torch-geometric) (5.9.3)\r\n",
      "Requirement already satisfied: MarkupSafe>=2.0 in /opt/conda/lib/python3.10/site-packages (from jinja2->torch-geometric) (2.1.3)\r\n",
      "Requirement already satisfied: charset-normalizer<4,>=2 in /opt/conda/lib/python3.10/site-packages (from requests->torch-geometric) (3.1.0)\r\n",
      "Requirement already satisfied: idna<4,>=2.5 in /opt/conda/lib/python3.10/site-packages (from requests->torch-geometric) (3.4)\r\n",
      "Requirement already satisfied: urllib3<3,>=1.21.1 in /opt/conda/lib/python3.10/site-packages (from requests->torch-geometric) (1.26.15)\r\n",
      "Requirement already satisfied: certifi>=2017.4.17 in /opt/conda/lib/python3.10/site-packages (from requests->torch-geometric) (2023.7.22)\r\n",
      "Requirement already satisfied: joblib>=1.1.1 in /opt/conda/lib/python3.10/site-packages (from scikit-learn->torch-geometric) (1.3.2)\r\n",
      "Requirement already satisfied: threadpoolctl>=2.0.0 in /opt/conda/lib/python3.10/site-packages (from scikit-learn->torch-geometric) (3.1.0)\r\n",
      "Installing collected packages: torch-geometric\r\n",
      "Successfully installed torch-geometric-2.4.0\r\n",
      "Note: you may need to restart the kernel to use updated packages.\n"
     ]
    }
   ],
   "source": [
    "pip install torch-geometric"
   ]
  },
  {
   "cell_type": "code",
   "execution_count": 4,
   "id": "aad9a560",
   "metadata": {
    "execution": {
     "iopub.execute_input": "2023-11-08T23:03:06.131680Z",
     "iopub.status.busy": "2023-11-08T23:03:06.131334Z",
     "iopub.status.idle": "2023-11-08T23:03:12.531571Z",
     "shell.execute_reply": "2023-11-08T23:03:12.530534Z"
    },
    "papermill": {
     "duration": 6.408663,
     "end_time": "2023-11-08T23:03:12.533883",
     "exception": false,
     "start_time": "2023-11-08T23:03:06.125220",
     "status": "completed"
    },
    "tags": []
   },
   "outputs": [],
   "source": [
    "import torch\n",
    "from torch import Tensor\n",
    "from torch_geometric.nn import GCNConv\n",
    "class GCN(torch.nn.Module):\n",
    "    def __init__(self, in_channels, hidden_channels, out_channels):\n",
    "        super().__init__()\n",
    "        self.conv1 = GCNConv(in_channels, hidden_channels)\n",
    "        self.conv2 = GCNConv(hidden_channels, out_channels)\n",
    "\n",
    "    def forward(self, x: Tensor, edge_index: Tensor) -> Tensor:\n",
    "        x = self.conv1(x, edge_index).relu()\n",
    "        x = self.conv2(x, edge_index)\n",
    "        return x"
   ]
  },
  {
   "cell_type": "code",
   "execution_count": 5,
   "id": "60224451",
   "metadata": {
    "execution": {
     "iopub.execute_input": "2023-11-08T23:03:12.545128Z",
     "iopub.status.busy": "2023-11-08T23:03:12.544579Z",
     "iopub.status.idle": "2023-11-08T23:03:12.549623Z",
     "shell.execute_reply": "2023-11-08T23:03:12.548722Z"
    },
    "papermill": {
     "duration": 0.01293,
     "end_time": "2023-11-08T23:03:12.551717",
     "exception": false,
     "start_time": "2023-11-08T23:03:12.538787",
     "status": "completed"
    },
    "tags": []
   },
   "outputs": [],
   "source": [
    "import torch.nn as nn\n",
    "import torch.nn.functional as F\n",
    "import glob\n",
    "import os"
   ]
  },
  {
   "cell_type": "code",
   "execution_count": 6,
   "id": "5396573e",
   "metadata": {
    "execution": {
     "iopub.execute_input": "2023-11-08T23:03:12.562676Z",
     "iopub.status.busy": "2023-11-08T23:03:12.562344Z",
     "iopub.status.idle": "2023-11-08T23:03:12.569100Z",
     "shell.execute_reply": "2023-11-08T23:03:12.568037Z"
    },
    "papermill": {
     "duration": 0.014474,
     "end_time": "2023-11-08T23:03:12.571096",
     "exception": false,
     "start_time": "2023-11-08T23:03:12.556622",
     "status": "completed"
    },
    "tags": []
   },
   "outputs": [],
   "source": [
    "def weights():\n",
    "    weights=[0.0055,0]\n",
    "    for i in range(2,21):\n",
    "        weights.append(0.005)\n",
    "    for i in range(21,31):\n",
    "        weights.append(0.006)\n",
    "    for i in range(31,37):\n",
    "        weights.append(0.0065)\n",
    "    for i in range(37,85):\n",
    "        weights.append(0.00675)\n",
    "    for i in range(85,93):\n",
    "        weights.append(0.0068)\n",
    "    weights.append(0.0065)\n",
    "    weights.append(0.0065)\n",
    "    for i in range(95,140):\n",
    "        weights.append(0.01)\n",
    "    return weights\n"
   ]
  },
  {
   "cell_type": "code",
   "execution_count": 7,
   "id": "7709e451",
   "metadata": {
    "execution": {
     "iopub.execute_input": "2023-11-08T23:03:12.582080Z",
     "iopub.status.busy": "2023-11-08T23:03:12.581687Z",
     "iopub.status.idle": "2023-11-08T23:03:12.589201Z",
     "shell.execute_reply": "2023-11-08T23:03:12.587756Z"
    },
    "papermill": {
     "duration": 0.015861,
     "end_time": "2023-11-08T23:03:12.591759",
     "exception": false,
     "start_time": "2023-11-08T23:03:12.575898",
     "status": "completed"
    },
    "tags": []
   },
   "outputs": [],
   "source": [
    "def replacetensor(tensor,process):\n",
    "    dup=tensor.clone()\n",
    "    dup=dup.detach().numpy()\n",
    "    dup=dup.tolist()\n",
    "    tensor,indices=torch.sort(tensor)\n",
    "    i=0\n",
    "    ind=dup.index(tensor[0])\n",
    "    dup[ind]=i\n",
    "    for j in range(1,process):\n",
    "        ind=dup.index(tensor[j])\n",
    "        if tensor[j-1]<tensor[j]:\n",
    "            i+=1\n",
    "        dup[ind]=i\n",
    "        dup[ind]=int(dup[ind])\n",
    "    dup=np.array(dup)\n",
    "    dup=torch.from_numpy(dup)\n",
    "    dup=dup.type(torch.LongTensor)\n",
    "    return dup"
   ]
  },
  {
   "cell_type": "code",
   "execution_count": 8,
   "id": "78b1a07e",
   "metadata": {
    "execution": {
     "iopub.execute_input": "2023-11-08T23:03:12.603271Z",
     "iopub.status.busy": "2023-11-08T23:03:12.602877Z",
     "iopub.status.idle": "2023-11-08T23:03:12.608802Z",
     "shell.execute_reply": "2023-11-08T23:03:12.607383Z"
    },
    "papermill": {
     "duration": 0.014503,
     "end_time": "2023-11-08T23:03:12.611269",
     "exception": false,
     "start_time": "2023-11-08T23:03:12.596766",
     "status": "completed"
    },
    "tags": []
   },
   "outputs": [],
   "source": [
    "def runtimepernode(weight,feature_vector):\n",
    "    lf=feature_vector.shape\n",
    "    rv=[]\n",
    "    for i in range(lf[0]):\n",
    "        rt=0\n",
    "        for j in range(lf[1]):\n",
    "            rt+=weight[j]*feature_vector[i][j]\n",
    "        rv.append(rt)\n",
    "    return rv"
   ]
  },
  {
   "cell_type": "code",
   "execution_count": 9,
   "id": "67ba6947",
   "metadata": {
    "execution": {
     "iopub.execute_input": "2023-11-08T23:03:12.622348Z",
     "iopub.status.busy": "2023-11-08T23:03:12.622044Z",
     "iopub.status.idle": "2023-11-08T23:03:12.628133Z",
     "shell.execute_reply": "2023-11-08T23:03:12.627121Z"
    },
    "papermill": {
     "duration": 0.013808,
     "end_time": "2023-11-08T23:03:12.630094",
     "exception": false,
     "start_time": "2023-11-08T23:03:12.616286",
     "status": "completed"
    },
    "tags": []
   },
   "outputs": [],
   "source": [
    "def addruntime(edges_vector,cumruntime):\n",
    "    le=len(edges_vector)\n",
    "    fr=cumruntime\n",
    "    fr[edges_vector[0][0]]=(cumruntime[edges_vector[0][0]]+cumruntime[edges_vector[0][1]])\n",
    "    for i in range(1,le):\n",
    "        if cumruntime[edges_vector[i-1][0]]!=cumruntime[edges_vector[i][0]]:\n",
    "            fr[edges_vector[i][0]]=(cumruntime[edges_vector[i][0]]+cumruntime[edges_vector[i][1]])\n",
    "        else:\n",
    "            fr[edges_vector[i][0]]+=cumruntime[edges_vector[i][1]]\n",
    "    return fr"
   ]
  },
  {
   "cell_type": "code",
   "execution_count": 10,
   "id": "a5d16c74",
   "metadata": {
    "execution": {
     "iopub.execute_input": "2023-11-08T23:03:12.641129Z",
     "iopub.status.busy": "2023-11-08T23:03:12.640779Z",
     "iopub.status.idle": "2023-11-08T23:03:12.647786Z",
     "shell.execute_reply": "2023-11-08T23:03:12.646698Z"
    },
    "papermill": {
     "duration": 0.01445,
     "end_time": "2023-11-08T23:03:12.649535",
     "exception": false,
     "start_time": "2023-11-08T23:03:12.635085",
     "status": "completed"
    },
    "tags": []
   },
   "outputs": [],
   "source": [
    "def arrangetiles(pred_tensor,size):\n",
    "    order=[]\n",
    "    dic={}\n",
    "    sd={}\n",
    "    rl=[]\n",
    "    for i in range(size):\n",
    "        maxi=pred_tensor[i,:].max()\n",
    "        for j in range(size):\n",
    "            if pred_tensor[i][j]==maxi:\n",
    "                order.append(j)\n",
    "                break\n",
    "    for i in order:\n",
    "        if i in dic:\n",
    "            dic[i]+=1\n",
    "        else:\n",
    "            dic[i]=1\n",
    "    sorted_keys = sorted(dic, key=dic.get,reverse=True)\n",
    "    for w in sorted_keys:\n",
    "        sd[w] = dic[w]\n",
    "    j=0\n",
    "    for i in sd:\n",
    "        j+=1\n",
    "        if j<6:\n",
    "            rl.append(i)\n",
    "        else:\n",
    "            break\n",
    "    return rl"
   ]
  },
  {
   "cell_type": "code",
   "execution_count": 11,
   "id": "0b6f1991",
   "metadata": {
    "execution": {
     "iopub.execute_input": "2023-11-08T23:03:12.660823Z",
     "iopub.status.busy": "2023-11-08T23:03:12.660479Z",
     "iopub.status.idle": "2023-11-08T23:04:56.719625Z",
     "shell.execute_reply": "2023-11-08T23:04:56.717785Z"
    },
    "papermill": {
     "duration": 104.06735,
     "end_time": "2023-11-08T23:04:56.722056",
     "exception": false,
     "start_time": "2023-11-08T23:03:12.654706",
     "status": "completed"
    },
    "tags": []
   },
   "outputs": [],
   "source": [
    "t=glob.glob(os.path.join('/kaggle/input/predict-ai-model-runtime/npz_all/npz/tile/xla', \"test\", \"*.npz\"))\n",
    "tile_order=[]\n",
    "lfile=len(t)\n",
    "wt=weights()\n",
    "for i in range(838,lfile):\n",
    "    d_tiletest=dict(np.load(t[i]))\n",
    "    t_f=torch.from_numpy(d_tiletest[\"config_feat\"])\n",
    "    t_e=torch.from_numpy(d_tiletest[\"edge_index\"])\n",
    "    t_e=torch.transpose(t_e, 0, 1)\n",
    "    process=len(d_tiletest[\"config_runtime\"])\n",
    "    model = GCN(24,16,process)\n",
    "    over_run=runtimepernode(wt,d_tiletest[\"node_feat\"])\n",
    "    final_run=addruntime(d_tiletest[\"edge_index\"],over_run)\n",
    "    total_run=sum(final_run)\n",
    "    runtime=[]\n",
    "    l=len(d_tiletest[\"config_runtime\"])\n",
    "    for i in range(l):\n",
    "        runtime.append(d_tiletest[\"config_runtime\"][i]+sum(d_tiletest[\"config_feat\"][i])/total_run)\n",
    "    runtime=np.array(runtime)\n",
    "    runtime=torch.from_numpy(runtime)\n",
    "    runtime=replacetensor(runtime,process)\n",
    "    optimizer = torch.optim.Adam(model.parameters(), lr=0.01)\n",
    "    for epoch in range(20):\n",
    "        pred = model(t_f,t_e)\n",
    "        loss = F.cross_entropy(pred,runtime)\n",
    "        optimizer.zero_grad()\n",
    "        loss.backward()\n",
    "        optimizer.step()\n",
    "    order=np.array(arrangetiles(pred,process))\n",
    "    tile_order.append(order)\n",
    "    del d_tiletest\n",
    "    del runtime\n",
    "    del pred\n",
    "    del order"
   ]
  },
  {
   "cell_type": "code",
   "execution_count": 12,
   "id": "4ff163cd",
   "metadata": {
    "execution": {
     "iopub.execute_input": "2023-11-08T23:04:56.733657Z",
     "iopub.status.busy": "2023-11-08T23:04:56.733281Z",
     "iopub.status.idle": "2023-11-08T23:04:56.738397Z",
     "shell.execute_reply": "2023-11-08T23:04:56.737365Z"
    },
    "papermill": {
     "duration": 0.014009,
     "end_time": "2023-11-08T23:04:56.741069",
     "exception": false,
     "start_time": "2023-11-08T23:04:56.727060",
     "status": "completed"
    },
    "tags": []
   },
   "outputs": [],
   "source": [
    "to=np.array(tile_order)"
   ]
  },
  {
   "cell_type": "code",
   "execution_count": 13,
   "id": "aa3b6ca1",
   "metadata": {
    "execution": {
     "iopub.execute_input": "2023-11-08T23:04:56.752667Z",
     "iopub.status.busy": "2023-11-08T23:04:56.752289Z",
     "iopub.status.idle": "2023-11-08T23:04:56.763208Z",
     "shell.execute_reply": "2023-11-08T23:04:56.762006Z"
    },
    "papermill": {
     "duration": 0.019153,
     "end_time": "2023-11-08T23:04:56.765286",
     "exception": false,
     "start_time": "2023-11-08T23:04:56.746133",
     "status": "completed"
    },
    "tags": []
   },
   "outputs": [
    {
     "data": {
      "text/plain": [
       "array([[176, 106,  16, 229, 103],\n",
       "       [280, 174, 142,  39, 314],\n",
       "       [ 16,  81,  60,  25,  83],\n",
       "       [ 82,  33, 132,  25,  97],\n",
       "       [477,  33, 285,  72,  95],\n",
       "       [ 25,  10, 109, 208, 139]])"
      ]
     },
     "execution_count": 13,
     "metadata": {},
     "output_type": "execute_result"
    }
   ],
   "source": [
    "to"
   ]
  },
  {
   "cell_type": "code",
   "execution_count": 14,
   "id": "d7f4c712",
   "metadata": {
    "execution": {
     "iopub.execute_input": "2023-11-08T23:04:56.776808Z",
     "iopub.status.busy": "2023-11-08T23:04:56.776469Z",
     "iopub.status.idle": "2023-11-08T23:04:56.783365Z",
     "shell.execute_reply": "2023-11-08T23:04:56.782302Z"
    },
    "papermill": {
     "duration": 0.014836,
     "end_time": "2023-11-08T23:04:56.785157",
     "exception": false,
     "start_time": "2023-11-08T23:04:56.770321",
     "status": "completed"
    },
    "tags": []
   },
   "outputs": [
    {
     "data": {
      "text/plain": [
       "6"
      ]
     },
     "execution_count": 14,
     "metadata": {},
     "output_type": "execute_result"
    }
   ],
   "source": [
    "len(to)"
   ]
  },
  {
   "cell_type": "code",
   "execution_count": 15,
   "id": "8ab15572",
   "metadata": {
    "execution": {
     "iopub.execute_input": "2023-11-08T23:04:56.796666Z",
     "iopub.status.busy": "2023-11-08T23:04:56.796307Z",
     "iopub.status.idle": "2023-11-08T23:04:56.801345Z",
     "shell.execute_reply": "2023-11-08T23:04:56.800301Z"
    },
    "papermill": {
     "duration": 0.013232,
     "end_time": "2023-11-08T23:04:56.803424",
     "exception": false,
     "start_time": "2023-11-08T23:04:56.790192",
     "status": "completed"
    },
    "tags": []
   },
   "outputs": [],
   "source": [
    "np.save('myarray.npy', to)"
   ]
  },
  {
   "cell_type": "markdown",
   "id": "36f8e643",
   "metadata": {
    "execution": {
     "iopub.execute_input": "2023-10-26T09:56:39.316806Z",
     "iopub.status.busy": "2023-10-26T09:56:39.316209Z",
     "iopub.status.idle": "2023-10-26T09:56:39.393967Z",
     "shell.execute_reply": "2023-10-26T09:56:39.392385Z",
     "shell.execute_reply.started": "2023-10-26T09:56:39.316752Z"
    },
    "papermill": {
     "duration": 0.004642,
     "end_time": "2023-11-08T23:04:56.813179",
     "exception": false,
     "start_time": "2023-11-08T23:04:56.808537",
     "status": "completed"
    },
    "tags": []
   },
   "source": [
    "model1=GCN(24,16,266)\n",
    "model1.load_state_dict(torch.load(\"/kaggle/input/graphnn/tilerun.pt\"))\n",
    "model1.fc=GCN(24,16,process)"
   ]
  },
  {
   "cell_type": "markdown",
   "id": "fb65e15a",
   "metadata": {
    "execution": {
     "iopub.execute_input": "2023-10-26T09:22:44.622046Z",
     "iopub.status.busy": "2023-10-26T09:22:44.621686Z",
     "iopub.status.idle": "2023-10-26T09:22:44.648757Z",
     "shell.execute_reply": "2023-10-26T09:22:44.647812Z",
     "shell.execute_reply.started": "2023-10-26T09:22:44.622015Z"
    },
    "papermill": {
     "duration": 0.004594,
     "end_time": "2023-11-08T23:04:56.822503",
     "exception": false,
     "start_time": "2023-11-08T23:04:56.817909",
     "status": "completed"
    },
    "tags": []
   },
   "source": [
    "pred1=model1(t_f,t_e)"
   ]
  },
  {
   "cell_type": "markdown",
   "id": "048b7464",
   "metadata": {
    "papermill": {
     "duration": 0.00453,
     "end_time": "2023-11-08T23:04:56.831767",
     "exception": false,
     "start_time": "2023-11-08T23:04:56.827237",
     "status": "completed"
    },
    "tags": []
   },
   "source": []
  }
 ],
 "metadata": {
  "kernelspec": {
   "display_name": "Python 3",
   "language": "python",
   "name": "python3"
  },
  "language_info": {
   "codemirror_mode": {
    "name": "ipython",
    "version": 3
   },
   "file_extension": ".py",
   "mimetype": "text/x-python",
   "name": "python",
   "nbconvert_exporter": "python",
   "pygments_lexer": "ipython3",
   "version": "3.10.12"
  },
  "papermill": {
   "default_parameters": {},
   "duration": 137.197421,
   "end_time": "2023-11-08T23:04:59.059038",
   "environment_variables": {},
   "exception": null,
   "input_path": "__notebook__.ipynb",
   "output_path": "__notebook__.ipynb",
   "parameters": {},
   "start_time": "2023-11-08T23:02:41.861617",
   "version": "2.4.0"
  }
 },
 "nbformat": 4,
 "nbformat_minor": 5
}
