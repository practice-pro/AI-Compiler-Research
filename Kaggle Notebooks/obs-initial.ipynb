{
 "cells": [
  {
   "cell_type": "code",
   "execution_count": 1,
   "id": "0bad849a",
   "metadata": {
    "_cell_guid": "b1076dfc-b9ad-4769-8c92-a6c4dae69d19",
    "_uuid": "8f2839f25d086af736a60e9eeb907d3b93b6e0e5",
    "execution": {
     "iopub.execute_input": "2023-11-21T21:46:48.402508Z",
     "iopub.status.busy": "2023-11-21T21:46:48.402055Z",
     "iopub.status.idle": "2023-11-21T21:46:49.394108Z",
     "shell.execute_reply": "2023-11-21T21:46:49.392476Z"
    },
    "papermill": {
     "duration": 1.01047,
     "end_time": "2023-11-21T21:46:49.397058",
     "exception": false,
     "start_time": "2023-11-21T21:46:48.386588",
     "status": "completed"
    },
    "tags": []
   },
   "outputs": [],
   "source": [
    "import numpy as np\n",
    "import pandas as pd "
   ]
  },
  {
   "cell_type": "code",
   "execution_count": 2,
   "id": "859db180",
   "metadata": {
    "execution": {
     "iopub.execute_input": "2023-11-21T21:46:49.425310Z",
     "iopub.status.busy": "2023-11-21T21:46:49.424811Z",
     "iopub.status.idle": "2023-11-21T21:47:05.474346Z",
     "shell.execute_reply": "2023-11-21T21:47:05.472759Z"
    },
    "papermill": {
     "duration": 16.066791,
     "end_time": "2023-11-21T21:47:05.477100",
     "exception": false,
     "start_time": "2023-11-21T21:46:49.410309",
     "status": "completed"
    },
    "tags": []
   },
   "outputs": [
    {
     "name": "stdout",
     "output_type": "stream",
     "text": [
      "Requirement already satisfied: torch in /opt/conda/lib/python3.10/site-packages (2.0.0+cpu)\r\n",
      "Requirement already satisfied: filelock in /opt/conda/lib/python3.10/site-packages (from torch) (3.12.2)\r\n",
      "Requirement already satisfied: typing-extensions in /opt/conda/lib/python3.10/site-packages (from torch) (4.6.3)\r\n",
      "Requirement already satisfied: sympy in /opt/conda/lib/python3.10/site-packages (from torch) (1.12)\r\n",
      "Requirement already satisfied: networkx in /opt/conda/lib/python3.10/site-packages (from torch) (3.1)\r\n",
      "Requirement already satisfied: jinja2 in /opt/conda/lib/python3.10/site-packages (from torch) (3.1.2)\r\n",
      "Requirement already satisfied: MarkupSafe>=2.0 in /opt/conda/lib/python3.10/site-packages (from jinja2->torch) (2.1.3)\r\n",
      "Requirement already satisfied: mpmath>=0.19 in /opt/conda/lib/python3.10/site-packages (from sympy->torch) (1.3.0)\r\n",
      "Note: you may need to restart the kernel to use updated packages.\n"
     ]
    }
   ],
   "source": [
    "pip install torch"
   ]
  },
  {
   "cell_type": "code",
   "execution_count": 3,
   "id": "762d16fb",
   "metadata": {
    "execution": {
     "iopub.execute_input": "2023-11-21T21:47:05.506109Z",
     "iopub.status.busy": "2023-11-21T21:47:05.505331Z",
     "iopub.status.idle": "2023-11-21T21:47:21.193745Z",
     "shell.execute_reply": "2023-11-21T21:47:21.192228Z"
    },
    "papermill": {
     "duration": 15.706106,
     "end_time": "2023-11-21T21:47:21.196640",
     "exception": false,
     "start_time": "2023-11-21T21:47:05.490534",
     "status": "completed"
    },
    "tags": []
   },
   "outputs": [
    {
     "name": "stdout",
     "output_type": "stream",
     "text": [
      "Collecting torch-geometric\r\n",
      "  Downloading torch_geometric-2.4.0-py3-none-any.whl (1.0 MB)\r\n",
      "\u001b[2K     \u001b[90m━━━━━━━━━━━━━━━━━━━━━━━━━━━━━━━━━━━━━━━━\u001b[0m \u001b[32m1.0/1.0 MB\u001b[0m \u001b[31m21.1 MB/s\u001b[0m eta \u001b[36m0:00:00\u001b[0m\r\n",
      "\u001b[?25hRequirement already satisfied: tqdm in /opt/conda/lib/python3.10/site-packages (from torch-geometric) (4.66.1)\r\n",
      "Requirement already satisfied: numpy in /opt/conda/lib/python3.10/site-packages (from torch-geometric) (1.23.5)\r\n",
      "Requirement already satisfied: scipy in /opt/conda/lib/python3.10/site-packages (from torch-geometric) (1.11.2)\r\n",
      "Requirement already satisfied: jinja2 in /opt/conda/lib/python3.10/site-packages (from torch-geometric) (3.1.2)\r\n",
      "Requirement already satisfied: requests in /opt/conda/lib/python3.10/site-packages (from torch-geometric) (2.31.0)\r\n",
      "Requirement already satisfied: pyparsing in /opt/conda/lib/python3.10/site-packages (from torch-geometric) (3.0.9)\r\n",
      "Requirement already satisfied: scikit-learn in /opt/conda/lib/python3.10/site-packages (from torch-geometric) (1.2.2)\r\n",
      "Requirement already satisfied: psutil>=5.8.0 in /opt/conda/lib/python3.10/site-packages (from torch-geometric) (5.9.3)\r\n",
      "Requirement already satisfied: MarkupSafe>=2.0 in /opt/conda/lib/python3.10/site-packages (from jinja2->torch-geometric) (2.1.3)\r\n",
      "Requirement already satisfied: charset-normalizer<4,>=2 in /opt/conda/lib/python3.10/site-packages (from requests->torch-geometric) (3.1.0)\r\n",
      "Requirement already satisfied: idna<4,>=2.5 in /opt/conda/lib/python3.10/site-packages (from requests->torch-geometric) (3.4)\r\n",
      "Requirement already satisfied: urllib3<3,>=1.21.1 in /opt/conda/lib/python3.10/site-packages (from requests->torch-geometric) (1.26.15)\r\n",
      "Requirement already satisfied: certifi>=2017.4.17 in /opt/conda/lib/python3.10/site-packages (from requests->torch-geometric) (2023.7.22)\r\n",
      "Requirement already satisfied: joblib>=1.1.1 in /opt/conda/lib/python3.10/site-packages (from scikit-learn->torch-geometric) (1.3.2)\r\n",
      "Requirement already satisfied: threadpoolctl>=2.0.0 in /opt/conda/lib/python3.10/site-packages (from scikit-learn->torch-geometric) (3.1.0)\r\n",
      "Installing collected packages: torch-geometric\r\n",
      "Successfully installed torch-geometric-2.4.0\r\n",
      "Note: you may need to restart the kernel to use updated packages.\n"
     ]
    }
   ],
   "source": [
    "pip install torch-geometric"
   ]
  },
  {
   "cell_type": "code",
   "execution_count": 4,
   "id": "64694deb",
   "metadata": {
    "execution": {
     "iopub.execute_input": "2023-11-21T21:47:21.227557Z",
     "iopub.status.busy": "2023-11-21T21:47:21.227127Z",
     "iopub.status.idle": "2023-11-21T21:47:21.491573Z",
     "shell.execute_reply": "2023-11-21T21:47:21.490580Z"
    },
    "papermill": {
     "duration": 0.283006,
     "end_time": "2023-11-21T21:47:21.494362",
     "exception": false,
     "start_time": "2023-11-21T21:47:21.211356",
     "status": "completed"
    },
    "tags": []
   },
   "outputs": [],
   "source": [
    "d1= dict(np.load(\"/kaggle/input/predict-ai-model-runtime/npz_all/npz/layout/xla/default/train/alexnet_train_batch_32.npz\"))"
   ]
  },
  {
   "cell_type": "code",
   "execution_count": 5,
   "id": "31174901",
   "metadata": {
    "execution": {
     "iopub.execute_input": "2023-11-21T21:47:21.525582Z",
     "iopub.status.busy": "2023-11-21T21:47:21.525165Z",
     "iopub.status.idle": "2023-11-21T21:47:21.544543Z",
     "shell.execute_reply": "2023-11-21T21:47:21.543193Z"
    },
    "papermill": {
     "duration": 0.039272,
     "end_time": "2023-11-21T21:47:21.547854",
     "exception": false,
     "start_time": "2023-11-21T21:47:21.508582",
     "status": "completed"
    },
    "tags": []
   },
   "outputs": [
    {
     "data": {
      "text/plain": [
       "{'edge_index': array([[  2,   0],\n",
       "        [  2,   1],\n",
       "        [  5,   3],\n",
       "        ...,\n",
       "        [371, 366],\n",
       "        [371, 367],\n",
       "        [371, 370]]),\n",
       " 'node_feat': array([[0., 0., 0., ..., 0., 0., 0.],\n",
       "        [0., 0., 0., ..., 0., 0., 0.],\n",
       "        [1., 0., 0., ..., 0., 0., 0.],\n",
       "        ...,\n",
       "        [0., 0., 0., ..., 0., 0., 0.],\n",
       "        [0., 0., 0., ..., 0., 0., 0.],\n",
       "        [1., 0., 0., ..., 0., 0., 0.]], dtype=float32),\n",
       " 'node_opcode': array([ 63,  63,  57,  63,  63,  57,  63,  63,  57,  63,  63,  57,  63,\n",
       "         63,   2,  63,  63,   2,  63,  63,  20,  63,  63,   2,  63,  63,\n",
       "         20,  63,  63,   2,  63,  63,  20,  63,  63,   2,  63,  63,   2,\n",
       "         63,  63,   2,  63,  63,   2,  63,  63,   2,  63,  63,   2,  63,\n",
       "         63,   2,  63,  63,   2,  63,  63,   2,  63,  45,  24,   2,  45,\n",
       "         47,  45,  45,  13,  48,  20,  24,  13,  24,  13,  83,  60,  20,\n",
       "         77,  24,  13,  20,  77,  20,  45,  45,  26,  45,  13,   2,  13,\n",
       "         57,  24,  72,  45,  26,  45,  13,   2,  13,  57,  72,  45,  26,\n",
       "         45,  13,   2,  13,  57,  45,  26,  45,  13,   2,  57,  45,  26,\n",
       "         45,  13,   2,  13,  57,  72,  75,  45,  34,  45,  13,   2,  13,\n",
       "         57,  24,  13,  59,  83,  45,  34,  45,  13,   2,  57,  59,  83,\n",
       "         45,  34,  45,  13,   2,  70,  13,  95,  37,  70,  50,  13,  95,\n",
       "         83,  59,  70,  24,  59,  24,  24,  24,  45,  12,  24,  20,  24,\n",
       "         45,  95,  20,  24,   2,  83,  95,  83,  19,  95,  20,  83,  25,\n",
       "         60,  83,  24,  83,   2,  20,  24,   2,  89,  95,  87,  89,  54,\n",
       "         83,  24,  89,  52,  20,  83,  54,  25,  12,  24,  87,   2,  54,\n",
       "         12,  83,  24,  59,  66,  59,  13,  20,  20,  20,  20,  20,  20,\n",
       "         20,  13,  13,  32,  95,  59,  34,  83,  59,  83,  34,  83,  59,\n",
       "         83,  34,  75,  84,  83,  26,  83,  26,  83,  26,  84,  83,  26,\n",
       "         84,  83,  24,  70,  59,  95,  13,  26,  59,  95,  13,  70,  59,\n",
       "         95,  13,  26,  59,  95,  13,  70,  59,  95,  13,  26,  59,  95,\n",
       "         70,  59,  95,  13,  26,  59,  95,  13,  70,  59,  95,  13,  26,\n",
       "         59,  95,   2,  20,  83,  45,  13,  70,  59,  95,  13,  34,  59,\n",
       "         95,  70,  59,  95,  13,  34,  59,  95,  13,  70,  59,  95,  13,\n",
       "         34,  59,  95,  45, 100,  75, 100,  61,  63,  45,  45,  20,  24,\n",
       "         24,  63,  45,  45,  45,  45,  45,  45,  45,  45,  45,  45,  45,\n",
       "         31,  31,  45,  45,  45,  45,  45,  45,  45,   4,   4, 100, 102,\n",
       "         45,  45,  45,  45,  45,  45,  45,  45,  45,  45,  45,  45,  45,\n",
       "         45,  45,  45,  45,  45,  45,  31, 100], dtype=uint8),\n",
       " 'node_config_feat': array([[[ 3.,  0., -1., ..., -1., -1., -1.],\n",
       "         [ 3.,  0., -1., ..., -1., -1., -1.],\n",
       "         [ 3.,  0., -1., ..., -1., -1., -1.],\n",
       "         ...,\n",
       "         [ 1.,  0., -1., ..., -1., -1., -1.],\n",
       "         [ 0.,  1., -1., ..., -1., -1., -1.],\n",
       "         [-1., -1., -1., ..., -1., -1., -1.]],\n",
       " \n",
       "        [[ 3.,  0., -1., ..., -1., -1., -1.],\n",
       "         [ 3.,  0., -1., ..., -1., -1., -1.],\n",
       "         [ 3.,  0., -1., ..., -1., -1., -1.],\n",
       "         ...,\n",
       "         [ 1.,  0., -1., ..., -1., -1., -1.],\n",
       "         [ 0.,  1., -1., ..., -1., -1., -1.],\n",
       "         [-1., -1., -1., ..., -1., -1., -1.]],\n",
       " \n",
       "        [[ 3.,  0., -1., ..., -1., -1., -1.],\n",
       "         [ 3.,  0., -1., ..., -1., -1., -1.],\n",
       "         [ 3.,  0., -1., ..., -1., -1., -1.],\n",
       "         ...,\n",
       "         [ 1.,  0., -1., ..., -1., -1., -1.],\n",
       "         [ 0.,  1., -1., ..., -1., -1., -1.],\n",
       "         [-1., -1., -1., ..., -1., -1., -1.]],\n",
       " \n",
       "        ...,\n",
       " \n",
       "        [[ 3.,  0., -1., ..., -1., -1., -1.],\n",
       "         [ 3.,  0., -1., ..., -1., -1., -1.],\n",
       "         [ 3.,  0., -1., ..., -1., -1., -1.],\n",
       "         ...,\n",
       "         [ 1.,  0., -1., ..., -1., -1., -1.],\n",
       "         [ 0.,  1., -1., ..., -1., -1., -1.],\n",
       "         [-1., -1., -1., ..., -1., -1., -1.]],\n",
       " \n",
       "        [[ 3.,  0., -1., ..., -1., -1., -1.],\n",
       "         [ 3.,  0., -1., ..., -1., -1., -1.],\n",
       "         [ 3.,  0., -1., ..., -1., -1., -1.],\n",
       "         ...,\n",
       "         [ 1.,  0., -1., ..., -1., -1., -1.],\n",
       "         [ 0.,  1., -1., ..., -1., -1., -1.],\n",
       "         [-1., -1., -1., ..., -1., -1., -1.]],\n",
       " \n",
       "        [[ 3.,  0., -1., ..., -1., -1., -1.],\n",
       "         [ 3.,  0., -1., ..., -1., -1., -1.],\n",
       "         [ 3.,  0., -1., ..., -1., -1., -1.],\n",
       "         ...,\n",
       "         [ 1.,  0., -1., ..., -1., -1., -1.],\n",
       "         [ 0.,  1., -1., ..., -1., -1., -1.],\n",
       "         [-1., -1., -1., ..., -1., -1., -1.]]], dtype=float32),\n",
       " 'node_config_ids': array([ 86,  95, 103, 110, 116, 123, 125, 136, 144, 227, 231, 235, 236,\n",
       "        239, 241, 243, 246, 254, 262, 270, 277, 285, 297, 304, 312, 317]),\n",
       " 'node_splits': array([[  0, 324, 372]]),\n",
       " 'config_runtime': array([ 79633675,  79556575,  79663914, ...,  79633581,  79567194,\n",
       "        428670259])}"
      ]
     },
     "execution_count": 5,
     "metadata": {},
     "output_type": "execute_result"
    }
   ],
   "source": [
    "d1"
   ]
  },
  {
   "cell_type": "code",
   "execution_count": 6,
   "id": "8964851f",
   "metadata": {
    "execution": {
     "iopub.execute_input": "2023-11-21T21:47:21.578139Z",
     "iopub.status.busy": "2023-11-21T21:47:21.577765Z",
     "iopub.status.idle": "2023-11-21T21:47:21.611690Z",
     "shell.execute_reply": "2023-11-21T21:47:21.610615Z"
    },
    "papermill": {
     "duration": 0.052573,
     "end_time": "2023-11-21T21:47:21.614796",
     "exception": false,
     "start_time": "2023-11-21T21:47:21.562223",
     "status": "completed"
    },
    "tags": []
   },
   "outputs": [],
   "source": [
    "d_tile=dict(np.load(\"/kaggle/input/predict-ai-model-runtime/npz_all/npz/tile/xla/train/alexnet_train_batch_32_-1bae27a41d70f4dc.npz\"))"
   ]
  },
  {
   "cell_type": "code",
   "execution_count": 7,
   "id": "52e110cc",
   "metadata": {
    "execution": {
     "iopub.execute_input": "2023-11-21T21:47:21.645573Z",
     "iopub.status.busy": "2023-11-21T21:47:21.645095Z",
     "iopub.status.idle": "2023-11-21T21:47:21.658358Z",
     "shell.execute_reply": "2023-11-21T21:47:21.657173Z"
    },
    "papermill": {
     "duration": 0.031718,
     "end_time": "2023-11-21T21:47:21.661166",
     "exception": false,
     "start_time": "2023-11-21T21:47:21.629448",
     "status": "completed"
    },
    "tags": []
   },
   "outputs": [
    {
     "data": {
      "text/plain": [
       "{'node_feat': array([[0., 0., 0., ..., 0., 0., 0.],\n",
       "        [1., 0., 0., ..., 0., 0., 0.],\n",
       "        [0., 0., 0., ..., 0., 0., 0.],\n",
       "        ...,\n",
       "        [0., 0., 0., ..., 0., 0., 0.],\n",
       "        [0., 0., 0., ..., 0., 0., 0.],\n",
       "        [1., 0., 0., ..., 0., 0., 0.]], dtype=float32),\n",
       " 'node_opcode': array([63, 11, 63, 11, 63, 41, 63, 41, 26, 63, 63, 41], dtype=uint8),\n",
       " 'edge_index': array([[ 1,  0],\n",
       "        [ 3,  2],\n",
       "        [ 5,  1],\n",
       "        [ 5,  4],\n",
       "        [ 7,  3],\n",
       "        [ 7,  6],\n",
       "        [ 8,  5],\n",
       "        [ 8,  7],\n",
       "        [11,  8],\n",
       "        [11,  9],\n",
       "        [11, 10]]),\n",
       " 'config_feat': array([[ 32.,  32.,   0., ...,   0.,   0.,   0.],\n",
       "        [ 32.,   1.,   0., ...,   0.,   0.,   0.],\n",
       "        [ 16.,   4.,   0., ...,   0.,   0.,   0.],\n",
       "        ...,\n",
       "        [144.,   7.,   0., ...,   0.,   0.,   0.],\n",
       "        [160.,   8.,   0., ...,   0.,   0.,   0.],\n",
       "        [160.,   8.,   0., ...,   0.,   0.,   0.]], dtype=float32),\n",
       " 'config_runtime': array([ 263238, 2029255, 1192602, 1027600, 1962135,  586084,  325550,\n",
       "         356464,  296084,  978334, 1056572, 1116488,  548447,  704372,\n",
       "         344132, 1071485, 1093864, 1054028,  281754, 1046658,  273832,\n",
       "         547707,  554930,  269950,  538392,  275415,  612021,  545892,\n",
       "         528781,  269455, 1084114,  529752,  278864,  263132, 1048461,\n",
       "        1559457, 2006681,  693175,  621397,  326250,  497480,  534914,\n",
       "         352687, 1058575,  676670,  272117,  276708,  548155, 1091060,\n",
       "         269795,  341780,  547294, 1043738, 1053294, 1052458, 1930718,\n",
       "        1074834,  278364, 1098220,  530642,  272087,  555207, 1078408,\n",
       "         278150, 1040592,  538835,  522850,  263018,  444904, 1568948,\n",
       "         532482,  510525,  992781,  707217,  338282,  650394, 1391574,\n",
       "        1106072,  312928,  508372, 1049745,  561224,  552358,  278661,\n",
       "         636067, 1083797, 1339762, 1047014, 1092141, 1083925,  269398,\n",
       "        1108705,  559045,  282431, 1081678,  281624,  284947,  279945,\n",
       "         533710,  277458,  273072,  263078, 2948552,  370418,  871842,\n",
       "        1077552, 1372692,  546072, 1017227, 1367204, 1000328,  285701,\n",
       "        1088414, 1343560,  287835,  281037, 1046948,  535264,  284177,\n",
       "         548031, 1100778, 1054077,  274487,  566295,  287855,  530684,\n",
       "         569725, 1087148,  970170,  273575,  540850,  542761,  527471,\n",
       "         281192,  263032, 1008972, 1067872, 1172390, 1130907,  556987,\n",
       "        1000590,  517991,  577584,  295841, 1055404, 1072585,  693625,\n",
       "        1088555,  581878,  282954,  275905,  345082, 1340530, 1123770,\n",
       "         527502,  528570,  673492, 1041894,  538464,  548392,  546080,\n",
       "         394587, 1055505,  271647,  276772,  268384,  274362,  262978,\n",
       "         550338, 1116575, 1949595,  350455, 1073957,  569638, 1069081,\n",
       "         293714,  552462,  288080, 1933992, 1098091,  352058,  971304,\n",
       "         674900,  551965, 1143978,  538528, 1048304,  533801,  284400,\n",
       "         278158,  527832,  273418, 1070522,  540685,  262997,  526225,\n",
       "        1087520,  275158, 1072035,  275457,  263137,  767878, 1431295,\n",
       "        1170672,  586264,  983530, 1129484, 1939858,  495202,  540950,\n",
       "         278028, 1935830,  560305,  293242,  537574, 1082508,  566405,\n",
       "        1082231,  342545,  408325,  527287,  278412, 1048098,  262772,\n",
       "         278410,  530292,  530477, 1125668, 1067868,  560607,  488745,\n",
       "         341245,  539605,  263077,  522652,  696828, 1980105,  304834,\n",
       "        2010120, 1943211, 1137698, 1065925,  288624, 1354184,  358625,\n",
       "         559227,  575282, 1052364, 1099574,  974320,  276085,  554932,\n",
       "         545887,  528607,  490317,  280985,  543824,  275422,  289014,\n",
       "         270321, 1051215,  531662, 1067788,  270360, 1035005,  267414]),\n",
       " 'config_runtime_normalizers': array([263238, 263238, 263238, 263238, 263238, 263238, 263238, 263238,\n",
       "        263238, 263238, 263238, 263238, 263238, 263238, 263238, 263238,\n",
       "        263238, 263238, 263238, 263238, 263238, 263238, 263238, 263238,\n",
       "        263238, 263238, 263238, 263238, 263238, 263238, 263238, 263238,\n",
       "        263238, 263132, 263132, 263132, 263132, 263132, 263132, 263132,\n",
       "        263132, 263132, 263132, 263132, 263132, 263132, 263132, 263132,\n",
       "        263132, 263132, 263132, 263132, 263132, 263132, 263132, 263132,\n",
       "        263132, 263132, 263132, 263132, 263132, 263132, 263132, 263132,\n",
       "        263132, 263132, 263132, 263018, 263018, 263018, 263018, 263018,\n",
       "        263018, 263018, 263018, 263018, 263018, 263018, 263018, 263018,\n",
       "        263018, 263018, 263018, 263018, 263018, 263018, 263018, 263018,\n",
       "        263018, 263018, 263018, 263018, 263018, 263018, 263018, 263018,\n",
       "        263018, 263018, 263018, 263018, 263018, 263078, 263078, 263078,\n",
       "        263078, 263078, 263078, 263078, 263078, 263078, 263078, 263078,\n",
       "        263078, 263078, 263078, 263078, 263078, 263078, 263078, 263078,\n",
       "        263078, 263078, 263078, 263078, 263078, 263078, 263078, 263078,\n",
       "        263078, 263078, 263078, 263078, 263078, 263078, 263032, 263032,\n",
       "        263032, 263032, 263032, 263032, 263032, 263032, 263032, 263032,\n",
       "        263032, 263032, 263032, 263032, 263032, 263032, 263032, 263032,\n",
       "        263032, 263032, 263032, 263032, 263032, 263032, 263032, 263032,\n",
       "        263032, 263032, 263032, 263032, 263032, 263032, 263032, 262978,\n",
       "        262978, 262978, 262978, 262978, 262978, 262978, 262978, 262978,\n",
       "        262978, 262978, 262978, 262978, 262978, 262978, 262978, 262978,\n",
       "        262978, 262978, 262978, 262978, 262978, 262978, 262978, 262978,\n",
       "        262978, 262978, 262978, 262978, 262978, 262978, 262978, 262978,\n",
       "        263137, 263137, 263137, 263137, 263137, 263137, 263137, 263137,\n",
       "        263137, 263137, 263137, 263137, 263137, 263137, 263137, 263137,\n",
       "        263137, 263137, 263137, 263137, 263137, 263137, 263137, 263137,\n",
       "        263137, 263137, 263137, 263137, 263137, 263137, 263137, 263137,\n",
       "        263137, 263077, 263077, 263077, 263077, 263077, 263077, 263077,\n",
       "        263077, 263077, 263077, 263077, 263077, 263077, 263077, 263077,\n",
       "        263077, 263077, 263077, 263077, 263077, 263077, 263077, 263077,\n",
       "        263077, 263077, 263077, 263077, 263077, 263077, 263077, 263077,\n",
       "        263077, 263077])}"
      ]
     },
     "execution_count": 7,
     "metadata": {},
     "output_type": "execute_result"
    }
   ],
   "source": [
    "d_tile"
   ]
  },
  {
   "cell_type": "code",
   "execution_count": 8,
   "id": "9c0c8858",
   "metadata": {
    "execution": {
     "iopub.execute_input": "2023-11-21T21:47:21.693309Z",
     "iopub.status.busy": "2023-11-21T21:47:21.692526Z",
     "iopub.status.idle": "2023-11-21T21:47:30.494368Z",
     "shell.execute_reply": "2023-11-21T21:47:30.493310Z"
    },
    "papermill": {
     "duration": 8.821166,
     "end_time": "2023-11-21T21:47:30.497132",
     "exception": false,
     "start_time": "2023-11-21T21:47:21.675966",
     "status": "completed"
    },
    "tags": []
   },
   "outputs": [],
   "source": [
    "import torch\n",
    "from torch import Tensor\n",
    "from torch_geometric.nn import GCNConv\n",
    "class GCN(torch.nn.Module):\n",
    "    def __init__(self, in_channels, hidden_channels, out_channels):\n",
    "        super().__init__()\n",
    "        self.conv1 = GCNConv(in_channels, hidden_channels)\n",
    "        self.conv2 = GCNConv(hidden_channels, out_channels)\n",
    "\n",
    "    def forward(self, x: Tensor, edge_index: Tensor) -> Tensor:\n",
    "        x = self.conv1(x, edge_index).relu()\n",
    "        x = self.conv2(x, edge_index)\n",
    "        return x"
   ]
  },
  {
   "cell_type": "code",
   "execution_count": 9,
   "id": "6c21181c",
   "metadata": {
    "execution": {
     "iopub.execute_input": "2023-11-21T21:47:30.529417Z",
     "iopub.status.busy": "2023-11-21T21:47:30.528780Z",
     "iopub.status.idle": "2023-11-21T21:47:30.539489Z",
     "shell.execute_reply": "2023-11-21T21:47:30.538408Z"
    },
    "papermill": {
     "duration": 0.029754,
     "end_time": "2023-11-21T21:47:30.541914",
     "exception": false,
     "start_time": "2023-11-21T21:47:30.512160",
     "status": "completed"
    },
    "tags": []
   },
   "outputs": [],
   "source": [
    "t_f=torch.from_numpy(d_tile[\"config_feat\"])"
   ]
  },
  {
   "cell_type": "code",
   "execution_count": 10,
   "id": "d437481d",
   "metadata": {
    "execution": {
     "iopub.execute_input": "2023-11-21T21:47:30.572981Z",
     "iopub.status.busy": "2023-11-21T21:47:30.572587Z",
     "iopub.status.idle": "2023-11-21T21:47:30.577557Z",
     "shell.execute_reply": "2023-11-21T21:47:30.576414Z"
    },
    "papermill": {
     "duration": 0.023431,
     "end_time": "2023-11-21T21:47:30.580094",
     "exception": false,
     "start_time": "2023-11-21T21:47:30.556663",
     "status": "completed"
    },
    "tags": []
   },
   "outputs": [],
   "source": [
    "t_e=torch.from_numpy(d_tile[\"edge_index\"])"
   ]
  },
  {
   "cell_type": "code",
   "execution_count": 11,
   "id": "b96ac91e",
   "metadata": {
    "execution": {
     "iopub.execute_input": "2023-11-21T21:47:30.615847Z",
     "iopub.status.busy": "2023-11-21T21:47:30.614735Z",
     "iopub.status.idle": "2023-11-21T21:47:30.621819Z",
     "shell.execute_reply": "2023-11-21T21:47:30.620481Z"
    },
    "papermill": {
     "duration": 0.026172,
     "end_time": "2023-11-21T21:47:30.624661",
     "exception": false,
     "start_time": "2023-11-21T21:47:30.598489",
     "status": "completed"
    },
    "tags": []
   },
   "outputs": [
    {
     "name": "stdout",
     "output_type": "stream",
     "text": [
      "torch.Size([11, 2])\n",
      "torch.Size([266, 24])\n"
     ]
    }
   ],
   "source": [
    "print(t_e.shape)\n",
    "print(t_f.shape)"
   ]
  },
  {
   "cell_type": "code",
   "execution_count": 12,
   "id": "8be1beba",
   "metadata": {
    "execution": {
     "iopub.execute_input": "2023-11-21T21:47:30.657512Z",
     "iopub.status.busy": "2023-11-21T21:47:30.657072Z",
     "iopub.status.idle": "2023-11-21T21:47:30.675734Z",
     "shell.execute_reply": "2023-11-21T21:47:30.674718Z"
    },
    "papermill": {
     "duration": 0.037749,
     "end_time": "2023-11-21T21:47:30.678363",
     "exception": false,
     "start_time": "2023-11-21T21:47:30.640614",
     "status": "completed"
    },
    "tags": []
   },
   "outputs": [],
   "source": [
    "t_e=torch.transpose(t_e, 0, 1)"
   ]
  },
  {
   "cell_type": "code",
   "execution_count": 13,
   "id": "d66c4c81",
   "metadata": {
    "execution": {
     "iopub.execute_input": "2023-11-21T21:47:30.711185Z",
     "iopub.status.busy": "2023-11-21T21:47:30.710317Z",
     "iopub.status.idle": "2023-11-21T21:47:30.750823Z",
     "shell.execute_reply": "2023-11-21T21:47:30.749877Z"
    },
    "papermill": {
     "duration": 0.060046,
     "end_time": "2023-11-21T21:47:30.753513",
     "exception": false,
     "start_time": "2023-11-21T21:47:30.693467",
     "status": "completed"
    },
    "tags": []
   },
   "outputs": [],
   "source": [
    "process=len(d_tile[\"config_runtime\"])\n",
    "model = GCN(24,16,266)"
   ]
  },
  {
   "cell_type": "code",
   "execution_count": 14,
   "id": "c24e5949",
   "metadata": {
    "execution": {
     "iopub.execute_input": "2023-11-21T21:47:30.785045Z",
     "iopub.status.busy": "2023-11-21T21:47:30.784642Z",
     "iopub.status.idle": "2023-11-21T21:47:30.793404Z",
     "shell.execute_reply": "2023-11-21T21:47:30.792112Z"
    },
    "papermill": {
     "duration": 0.027567,
     "end_time": "2023-11-21T21:47:30.795877",
     "exception": false,
     "start_time": "2023-11-21T21:47:30.768310",
     "status": "completed"
    },
    "tags": []
   },
   "outputs": [],
   "source": [
    "def replacetensor(tensor,process):\n",
    "    dup=tensor.clone()\n",
    "    dup=dup.detach().numpy()\n",
    "    dup=dup.tolist()\n",
    "    tensor,indices=torch.sort(tensor)\n",
    "    i=0\n",
    "    ind=dup.index(tensor[0])\n",
    "    dup[ind]=i\n",
    "    for j in range(1,process):\n",
    "        ind=dup.index(tensor[j])\n",
    "        if tensor[j-1]<tensor[j]:\n",
    "            i+=1\n",
    "        dup[ind]=i\n",
    "        dup[ind]=int(dup[ind])\n",
    "    dup=np.array(dup)\n",
    "    dup=torch.from_numpy(dup)\n",
    "    dup=dup.type(torch.LongTensor)\n",
    "    return dup"
   ]
  },
  {
   "cell_type": "markdown",
   "id": "d72bc24d",
   "metadata": {
    "papermill": {
     "duration": 0.014689,
     "end_time": "2023-11-21T21:47:30.825801",
     "exception": false,
     "start_time": "2023-11-21T21:47:30.811112",
     "status": "completed"
    },
    "tags": []
   },
   "source": [
    "Since features determine the compile sequence to identify datatypes and dimensions of vectors, the gnn built would use features as centers to determine the sequence of operations, which would we compared against the config runtime. The maximum subsequence of the graph nn with least runtime would be returned. Opcodes could be thought to similar to the bag-of-words in cora that determine the relative increase or decrease of runtime. The classes of runtime would be 'c' distinct or similar runtimes ordered in increasing order.\n",
    "\n",
    "Use the layout features to link to the configurable parts of the processes set up to recompute the order of the best runtimes obtained.For example, if some non configurable sequence is found to run for a lesser time in the tile's confguration, recheck with the layout's reconfigurable means. Mark the activated features of each node to calculate a runtime overhead and interconnections of input acceptance order."
   ]
  },
  {
   "cell_type": "code",
   "execution_count": 15,
   "id": "ae6354ec",
   "metadata": {
    "execution": {
     "iopub.execute_input": "2023-11-21T21:47:30.859553Z",
     "iopub.status.busy": "2023-11-21T21:47:30.858718Z",
     "iopub.status.idle": "2023-11-21T21:47:30.888217Z",
     "shell.execute_reply": "2023-11-21T21:47:30.886987Z"
    },
    "papermill": {
     "duration": 0.049248,
     "end_time": "2023-11-21T21:47:30.890995",
     "exception": false,
     "start_time": "2023-11-21T21:47:30.841747",
     "status": "completed"
    },
    "tags": []
   },
   "outputs": [],
   "source": [
    "d_test=dict(np.load(\"/kaggle/input/predict-ai-model-runtime/npz_all/npz/tile/xla/test/0023795810403f8b0b244d88c901322f.npz\"))"
   ]
  },
  {
   "cell_type": "code",
   "execution_count": 16,
   "id": "2950e808",
   "metadata": {
    "execution": {
     "iopub.execute_input": "2023-11-21T21:47:30.925546Z",
     "iopub.status.busy": "2023-11-21T21:47:30.925100Z",
     "iopub.status.idle": "2023-11-21T21:47:30.934073Z",
     "shell.execute_reply": "2023-11-21T21:47:30.932801Z"
    },
    "papermill": {
     "duration": 0.028825,
     "end_time": "2023-11-21T21:47:30.936664",
     "exception": false,
     "start_time": "2023-11-21T21:47:30.907839",
     "status": "completed"
    },
    "tags": []
   },
   "outputs": [],
   "source": [
    "def weights():\n",
    "    weights=[0.0055,0]\n",
    "    for i in range(2,21):\n",
    "        weights.append(0.005)\n",
    "    for i in range(21,31):\n",
    "        weights.append(0.006)\n",
    "    for i in range(31,37):\n",
    "        weights.append(0.0065)\n",
    "    for i in range(37,85):\n",
    "        weights.append(0.00675)\n",
    "    for i in range(85,93):\n",
    "        weights.append(0.0068)\n",
    "    weights.append(0.0065)\n",
    "    weights.append(0.0065)\n",
    "    for i in range(95,140):\n",
    "        weights.append(0.01)\n",
    "    return weights\n",
    "    \n",
    "    "
   ]
  },
  {
   "cell_type": "markdown",
   "id": "551d12e1",
   "metadata": {
    "papermill": {
     "duration": 0.014836,
     "end_time": "2023-11-21T21:47:30.967125",
     "exception": false,
     "start_time": "2023-11-21T21:47:30.952289",
     "status": "completed"
    },
    "tags": []
   },
   "source": [
    "Add the runtimes of all the nodes subject to their initial configuration to obtain the estimated tile runtime.Obtain the standard deviation of the given configuration runtimes to have the probabilities of obtaining the top configurations."
   ]
  },
  {
   "cell_type": "code",
   "execution_count": 17,
   "id": "b08fec66",
   "metadata": {
    "execution": {
     "iopub.execute_input": "2023-11-21T21:47:31.000076Z",
     "iopub.status.busy": "2023-11-21T21:47:30.999681Z",
     "iopub.status.idle": "2023-11-21T21:47:31.006820Z",
     "shell.execute_reply": "2023-11-21T21:47:31.005098Z"
    },
    "papermill": {
     "duration": 0.026277,
     "end_time": "2023-11-21T21:47:31.009168",
     "exception": false,
     "start_time": "2023-11-21T21:47:30.982891",
     "status": "completed"
    },
    "tags": []
   },
   "outputs": [],
   "source": [
    "def runtimepernode(weight,feature_vector):\n",
    "    lf=feature_vector.shape\n",
    "    rv=[]\n",
    "    for i in range(lf[0]):\n",
    "        rt=0\n",
    "        for j in range(lf[1]):\n",
    "            rt+=weight[j]*feature_vector[i][j]\n",
    "        rv.append(rt)\n",
    "    return rv"
   ]
  },
  {
   "cell_type": "code",
   "execution_count": 18,
   "id": "34e506aa",
   "metadata": {
    "execution": {
     "iopub.execute_input": "2023-11-21T21:47:31.107932Z",
     "iopub.status.busy": "2023-11-21T21:47:31.107549Z",
     "iopub.status.idle": "2023-11-21T21:47:31.115673Z",
     "shell.execute_reply": "2023-11-21T21:47:31.114563Z"
    },
    "papermill": {
     "duration": 0.027132,
     "end_time": "2023-11-21T21:47:31.118024",
     "exception": false,
     "start_time": "2023-11-21T21:47:31.090892",
     "status": "completed"
    },
    "tags": []
   },
   "outputs": [],
   "source": [
    "def addruntime(edges_vector,cumruntime):\n",
    "    le=len(edges_vector)\n",
    "    fr=cumruntime\n",
    "    fr[edges_vector[0][0]]=(cumruntime[edges_vector[0][0]]+cumruntime[edges_vector[0][1]])\n",
    "    for i in range(1,le):\n",
    "        if cumruntime[edges_vector[i-1][0]]!=cumruntime[edges_vector[i][0]]:\n",
    "            fr[edges_vector[i][0]]=(cumruntime[edges_vector[i][0]]+cumruntime[edges_vector[i][1]])\n",
    "        else:\n",
    "            fr[edges_vector[i][0]]+=cumruntime[edges_vector[i][1]]\n",
    "    return fr"
   ]
  },
  {
   "cell_type": "code",
   "execution_count": 19,
   "id": "93a70003",
   "metadata": {
    "execution": {
     "iopub.execute_input": "2023-11-21T21:47:31.151961Z",
     "iopub.status.busy": "2023-11-21T21:47:31.151580Z",
     "iopub.status.idle": "2023-11-21T21:47:31.164134Z",
     "shell.execute_reply": "2023-11-21T21:47:31.163073Z"
    },
    "papermill": {
     "duration": 0.032185,
     "end_time": "2023-11-21T21:47:31.166768",
     "exception": false,
     "start_time": "2023-11-21T21:47:31.134583",
     "status": "completed"
    },
    "tags": []
   },
   "outputs": [],
   "source": [
    "wt=weights()\n",
    "over_run=runtimepernode(wt,d_tile[\"node_feat\"])\n",
    "final_run=addruntime(d_tile[\"edge_index\"],over_run)"
   ]
  },
  {
   "cell_type": "code",
   "execution_count": 20,
   "id": "33f8aceb",
   "metadata": {
    "execution": {
     "iopub.execute_input": "2023-11-21T21:47:31.199836Z",
     "iopub.status.busy": "2023-11-21T21:47:31.199435Z",
     "iopub.status.idle": "2023-11-21T21:47:31.204648Z",
     "shell.execute_reply": "2023-11-21T21:47:31.203557Z"
    },
    "papermill": {
     "duration": 0.024729,
     "end_time": "2023-11-21T21:47:31.206804",
     "exception": false,
     "start_time": "2023-11-21T21:47:31.182075",
     "status": "completed"
    },
    "tags": []
   },
   "outputs": [],
   "source": [
    "total_run=sum(final_run)"
   ]
  },
  {
   "cell_type": "code",
   "execution_count": 21,
   "id": "bc8d02b4",
   "metadata": {
    "execution": {
     "iopub.execute_input": "2023-11-21T21:47:31.237875Z",
     "iopub.status.busy": "2023-11-21T21:47:31.237457Z",
     "iopub.status.idle": "2023-11-21T21:47:31.556249Z",
     "shell.execute_reply": "2023-11-21T21:47:31.555070Z"
    },
    "papermill": {
     "duration": 0.337399,
     "end_time": "2023-11-21T21:47:31.559027",
     "exception": false,
     "start_time": "2023-11-21T21:47:31.221628",
     "status": "completed"
    },
    "tags": []
   },
   "outputs": [],
   "source": [
    "runtime=torch.from_numpy((d_tile[\"config_runtime\"]-total_run)/d_tile[\"config_runtime_normalizers\"])\n",
    "runtime=replacetensor(runtime,process)"
   ]
  },
  {
   "cell_type": "code",
   "execution_count": 22,
   "id": "4f29d3f3",
   "metadata": {
    "execution": {
     "iopub.execute_input": "2023-11-21T21:47:31.593499Z",
     "iopub.status.busy": "2023-11-21T21:47:31.593031Z",
     "iopub.status.idle": "2023-11-21T21:47:32.149211Z",
     "shell.execute_reply": "2023-11-21T21:47:32.148116Z"
    },
    "papermill": {
     "duration": 0.576883,
     "end_time": "2023-11-21T21:47:32.151950",
     "exception": false,
     "start_time": "2023-11-21T21:47:31.575067",
     "status": "completed"
    },
    "tags": []
   },
   "outputs": [
    {
     "name": "stdout",
     "output_type": "stream",
     "text": [
      "tensor(70.2462, grad_fn=<NllLossBackward0>)\n",
      "tensor(57.2592, grad_fn=<NllLossBackward0>)\n",
      "tensor(48.3442, grad_fn=<NllLossBackward0>)\n",
      "tensor(40.7255, grad_fn=<NllLossBackward0>)\n",
      "tensor(35.8239, grad_fn=<NllLossBackward0>)\n",
      "tensor(31.1329, grad_fn=<NllLossBackward0>)\n",
      "tensor(27.3662, grad_fn=<NllLossBackward0>)\n",
      "tensor(24.4015, grad_fn=<NllLossBackward0>)\n",
      "tensor(21.6788, grad_fn=<NllLossBackward0>)\n",
      "tensor(19.6505, grad_fn=<NllLossBackward0>)\n",
      "tensor(17.8433, grad_fn=<NllLossBackward0>)\n",
      "tensor(16.3877, grad_fn=<NllLossBackward0>)\n",
      "tensor(15.2194, grad_fn=<NllLossBackward0>)\n",
      "tensor(14.5212, grad_fn=<NllLossBackward0>)\n",
      "tensor(13.8579, grad_fn=<NllLossBackward0>)\n",
      "tensor(13.0723, grad_fn=<NllLossBackward0>)\n",
      "tensor(12.1841, grad_fn=<NllLossBackward0>)\n",
      "tensor(11.3946, grad_fn=<NllLossBackward0>)\n",
      "tensor(10.7562, grad_fn=<NllLossBackward0>)\n",
      "tensor(10.2193, grad_fn=<NllLossBackward0>)\n",
      "tensor(9.7521, grad_fn=<NllLossBackward0>)\n",
      "tensor(9.2692, grad_fn=<NllLossBackward0>)\n",
      "tensor(8.7821, grad_fn=<NllLossBackward0>)\n",
      "tensor(8.3031, grad_fn=<NllLossBackward0>)\n",
      "tensor(7.9120, grad_fn=<NllLossBackward0>)\n",
      "tensor(7.5643, grad_fn=<NllLossBackward0>)\n",
      "tensor(7.2953, grad_fn=<NllLossBackward0>)\n",
      "tensor(7.0469, grad_fn=<NllLossBackward0>)\n",
      "tensor(6.7906, grad_fn=<NllLossBackward0>)\n",
      "tensor(6.5636, grad_fn=<NllLossBackward0>)\n",
      "tensor(6.3312, grad_fn=<NllLossBackward0>)\n",
      "tensor(6.1167, grad_fn=<NllLossBackward0>)\n",
      "tensor(5.9348, grad_fn=<NllLossBackward0>)\n",
      "tensor(5.7660, grad_fn=<NllLossBackward0>)\n",
      "tensor(5.6144, grad_fn=<NllLossBackward0>)\n",
      "tensor(5.4923, grad_fn=<NllLossBackward0>)\n",
      "tensor(5.3735, grad_fn=<NllLossBackward0>)\n",
      "tensor(5.2914, grad_fn=<NllLossBackward0>)\n",
      "tensor(5.2184, grad_fn=<NllLossBackward0>)\n",
      "tensor(5.1596, grad_fn=<NllLossBackward0>)\n",
      "tensor(5.1052, grad_fn=<NllLossBackward0>)\n",
      "tensor(5.0505, grad_fn=<NllLossBackward0>)\n",
      "tensor(5.0084, grad_fn=<NllLossBackward0>)\n",
      "tensor(4.9659, grad_fn=<NllLossBackward0>)\n",
      "tensor(4.9354, grad_fn=<NllLossBackward0>)\n",
      "tensor(4.9083, grad_fn=<NllLossBackward0>)\n",
      "tensor(4.8932, grad_fn=<NllLossBackward0>)\n",
      "tensor(4.8773, grad_fn=<NllLossBackward0>)\n",
      "tensor(4.8613, grad_fn=<NllLossBackward0>)\n",
      "tensor(4.8449, grad_fn=<NllLossBackward0>)\n",
      "tensor(4.8311, grad_fn=<NllLossBackward0>)\n",
      "tensor(4.8167, grad_fn=<NllLossBackward0>)\n",
      "tensor(4.8018, grad_fn=<NllLossBackward0>)\n",
      "tensor(4.7872, grad_fn=<NllLossBackward0>)\n",
      "tensor(4.7744, grad_fn=<NllLossBackward0>)\n",
      "tensor(4.7614, grad_fn=<NllLossBackward0>)\n",
      "tensor(4.7484, grad_fn=<NllLossBackward0>)\n",
      "tensor(4.7352, grad_fn=<NllLossBackward0>)\n",
      "tensor(4.7221, grad_fn=<NllLossBackward0>)\n",
      "tensor(4.7081, grad_fn=<NllLossBackward0>)\n",
      "tensor(4.6930, grad_fn=<NllLossBackward0>)\n",
      "tensor(4.6774, grad_fn=<NllLossBackward0>)\n",
      "tensor(4.6622, grad_fn=<NllLossBackward0>)\n",
      "tensor(4.6474, grad_fn=<NllLossBackward0>)\n",
      "tensor(4.6328, grad_fn=<NllLossBackward0>)\n",
      "tensor(4.6186, grad_fn=<NllLossBackward0>)\n",
      "tensor(4.6046, grad_fn=<NllLossBackward0>)\n",
      "tensor(4.5912, grad_fn=<NllLossBackward0>)\n",
      "tensor(4.5787, grad_fn=<NllLossBackward0>)\n",
      "tensor(4.5662, grad_fn=<NllLossBackward0>)\n",
      "tensor(4.5535, grad_fn=<NllLossBackward0>)\n",
      "tensor(4.5412, grad_fn=<NllLossBackward0>)\n",
      "tensor(4.5293, grad_fn=<NllLossBackward0>)\n",
      "tensor(4.5172, grad_fn=<NllLossBackward0>)\n",
      "tensor(4.5053, grad_fn=<NllLossBackward0>)\n",
      "tensor(4.4938, grad_fn=<NllLossBackward0>)\n",
      "tensor(4.4815, grad_fn=<NllLossBackward0>)\n",
      "tensor(4.4694, grad_fn=<NllLossBackward0>)\n",
      "tensor(4.4576, grad_fn=<NllLossBackward0>)\n",
      "tensor(4.4458, grad_fn=<NllLossBackward0>)\n",
      "tensor(4.4334, grad_fn=<NllLossBackward0>)\n",
      "tensor(4.4217, grad_fn=<NllLossBackward0>)\n",
      "tensor(4.4099, grad_fn=<NllLossBackward0>)\n",
      "tensor(4.3985, grad_fn=<NllLossBackward0>)\n",
      "tensor(4.3874, grad_fn=<NllLossBackward0>)\n",
      "tensor(4.3750, grad_fn=<NllLossBackward0>)\n",
      "tensor(4.3627, grad_fn=<NllLossBackward0>)\n",
      "tensor(4.3498, grad_fn=<NllLossBackward0>)\n",
      "tensor(4.3381, grad_fn=<NllLossBackward0>)\n",
      "tensor(4.3262, grad_fn=<NllLossBackward0>)\n",
      "tensor(4.3138, grad_fn=<NllLossBackward0>)\n",
      "tensor(4.2974, grad_fn=<NllLossBackward0>)\n",
      "tensor(4.2834, grad_fn=<NllLossBackward0>)\n",
      "tensor(4.2714, grad_fn=<NllLossBackward0>)\n",
      "tensor(4.2603, grad_fn=<NllLossBackward0>)\n",
      "tensor(4.2475, grad_fn=<NllLossBackward0>)\n",
      "tensor(4.2341, grad_fn=<NllLossBackward0>)\n",
      "tensor(4.2206, grad_fn=<NllLossBackward0>)\n",
      "tensor(4.2060, grad_fn=<NllLossBackward0>)\n",
      "tensor(4.1905, grad_fn=<NllLossBackward0>)\n"
     ]
    }
   ],
   "source": [
    "import torch.nn as nn\n",
    "import torch.nn.functional as F\n",
    "optimizer = torch.optim.Adam(model.parameters(), lr=0.01)\n",
    "for epoch in range(100):\n",
    "    pred = model(t_f,t_e)\n",
    "    loss = F.cross_entropy(pred,runtime)\n",
    "    optimizer.zero_grad()\n",
    "    loss.backward()\n",
    "    optimizer.step()\n",
    "    print(loss)"
   ]
  },
  {
   "cell_type": "code",
   "execution_count": 23,
   "id": "b85d931d",
   "metadata": {
    "execution": {
     "iopub.execute_input": "2023-11-21T21:47:32.184439Z",
     "iopub.status.busy": "2023-11-21T21:47:32.184013Z",
     "iopub.status.idle": "2023-11-21T21:47:32.197562Z",
     "shell.execute_reply": "2023-11-21T21:47:32.195928Z"
    },
    "papermill": {
     "duration": 0.033217,
     "end_time": "2023-11-21T21:47:32.200370",
     "exception": false,
     "start_time": "2023-11-21T21:47:32.167153",
     "status": "completed"
    },
    "tags": []
   },
   "outputs": [
    {
     "data": {
      "text/plain": [
       "tensor([[ 2.3596,  2.6858,  2.7538,  ..., -0.1456,  2.1677, -2.0213],\n",
       "        [-4.3004, -3.8714, -3.5723,  ..., -0.4074,  2.8662,  1.4173],\n",
       "        [-5.9020, -5.9789, -4.3509,  ...,  0.4430,  1.3440,  1.8558],\n",
       "        ...,\n",
       "        [ 4.1754,  3.3224,  3.7602,  ...,  2.2905,  0.0521, -1.2616],\n",
       "        [15.8548, 14.5631, 15.9710,  ...,  2.1153,  2.8480, -7.9370],\n",
       "        [11.3168, 10.4056, 10.9601,  ...,  3.2121,  1.3120, -5.4481]],\n",
       "       grad_fn=<AddBackward0>)"
      ]
     },
     "execution_count": 23,
     "metadata": {},
     "output_type": "execute_result"
    }
   ],
   "source": [
    "pred"
   ]
  },
  {
   "cell_type": "code",
   "execution_count": 24,
   "id": "8f2990cd",
   "metadata": {
    "execution": {
     "iopub.execute_input": "2023-11-21T21:47:32.233787Z",
     "iopub.status.busy": "2023-11-21T21:47:32.233341Z",
     "iopub.status.idle": "2023-11-21T21:47:32.239988Z",
     "shell.execute_reply": "2023-11-21T21:47:32.238855Z"
    },
    "papermill": {
     "duration": 0.026395,
     "end_time": "2023-11-21T21:47:32.242301",
     "exception": false,
     "start_time": "2023-11-21T21:47:32.215906",
     "status": "completed"
    },
    "tags": []
   },
   "outputs": [],
   "source": [
    "torch.save(model.state_dict(),\"tilerun.pt\")"
   ]
  },
  {
   "cell_type": "code",
   "execution_count": 25,
   "id": "aa5fcd8a",
   "metadata": {
    "execution": {
     "iopub.execute_input": "2023-11-21T21:47:32.276591Z",
     "iopub.status.busy": "2023-11-21T21:47:32.276162Z",
     "iopub.status.idle": "2023-11-21T21:47:32.281561Z",
     "shell.execute_reply": "2023-11-21T21:47:32.280366Z"
    },
    "papermill": {
     "duration": 0.024564,
     "end_time": "2023-11-21T21:47:32.284104",
     "exception": false,
     "start_time": "2023-11-21T21:47:32.259540",
     "status": "completed"
    },
    "tags": []
   },
   "outputs": [],
   "source": [
    "ds=d1[\"node_config_feat\"].shape"
   ]
  },
  {
   "cell_type": "markdown",
   "id": "f9028d27",
   "metadata": {
    "papermill": {
     "duration": 0.014958,
     "end_time": "2023-11-21T21:47:32.314191",
     "exception": false,
     "start_time": "2023-11-21T21:47:32.299233",
     "status": "completed"
    },
    "tags": []
   },
   "source": [
    "Consider each node configuration id to be a tile each. Predict the runtime for each tile with default configuration, and compare with respect to given runtimes of each layout. Multiply each node of the second vector with the runtime obtained for a node to run and reduce the dimension to proceed with the steps similar to deduce the tile configuration's probabilities."
   ]
  },
  {
   "cell_type": "code",
   "execution_count": 26,
   "id": "d9bc3a50",
   "metadata": {
    "execution": {
     "iopub.execute_input": "2023-11-21T21:47:32.348599Z",
     "iopub.status.busy": "2023-11-21T21:47:32.348202Z",
     "iopub.status.idle": "2023-11-21T21:47:32.556174Z",
     "shell.execute_reply": "2023-11-21T21:47:32.554846Z"
    },
    "papermill": {
     "duration": 0.228292,
     "end_time": "2023-11-21T21:47:32.559006",
     "exception": false,
     "start_time": "2023-11-21T21:47:32.330714",
     "status": "completed"
    },
    "tags": []
   },
   "outputs": [],
   "source": [
    "over_run_layout=runtimepernode(wt,d1[\"node_feat\"])\n",
    "final_run_layout=addruntime(d1[\"edge_index\"],over_run_layout)"
   ]
  },
  {
   "cell_type": "code",
   "execution_count": 27,
   "id": "f5a2f4b0",
   "metadata": {
    "execution": {
     "iopub.execute_input": "2023-11-21T21:47:32.593993Z",
     "iopub.status.busy": "2023-11-21T21:47:32.593597Z",
     "iopub.status.idle": "2023-11-21T21:47:32.600819Z",
     "shell.execute_reply": "2023-11-21T21:47:32.599456Z"
    },
    "papermill": {
     "duration": 0.028588,
     "end_time": "2023-11-21T21:47:32.603438",
     "exception": false,
     "start_time": "2023-11-21T21:47:32.574850",
     "status": "completed"
    },
    "tags": []
   },
   "outputs": [],
   "source": [
    "def layoutconfig(final_run,config_ids,config_vector):\n",
    "    lc=len(config_ids)\n",
    "    cs=config_vector.shape\n",
    "    new_cv=[]\n",
    "    mult=[]\n",
    "    for i in range(cs[0]):\n",
    "        for j in range(lc):\n",
    "            mult=(config_vector[i][j]*final_run[config_ids[j]]).tolist()\n",
    "        new_cv.append(mult)\n",
    "    return new_cv"
   ]
  },
  {
   "cell_type": "code",
   "execution_count": 28,
   "id": "778a7039",
   "metadata": {
    "execution": {
     "iopub.execute_input": "2023-11-21T21:47:32.637060Z",
     "iopub.status.busy": "2023-11-21T21:47:32.636662Z",
     "iopub.status.idle": "2023-11-21T21:47:33.115930Z",
     "shell.execute_reply": "2023-11-21T21:47:33.114428Z"
    },
    "papermill": {
     "duration": 0.499018,
     "end_time": "2023-11-21T21:47:33.118824",
     "exception": false,
     "start_time": "2023-11-21T21:47:32.619806",
     "status": "completed"
    },
    "tags": []
   },
   "outputs": [],
   "source": [
    "new_con=layoutconfig(final_run_layout,d1[\"node_config_ids\"],d1[\"node_config_feat\"][:4000,:,:])"
   ]
  },
  {
   "cell_type": "code",
   "execution_count": 29,
   "id": "880a8f85",
   "metadata": {
    "execution": {
     "iopub.execute_input": "2023-11-21T21:47:33.152680Z",
     "iopub.status.busy": "2023-11-21T21:47:33.152250Z",
     "iopub.status.idle": "2023-11-21T21:47:33.157542Z",
     "shell.execute_reply": "2023-11-21T21:47:33.156505Z"
    },
    "papermill": {
     "duration": 0.024896,
     "end_time": "2023-11-21T21:47:33.160039",
     "exception": false,
     "start_time": "2023-11-21T21:47:33.135143",
     "status": "completed"
    },
    "tags": []
   },
   "outputs": [],
   "source": [
    "total_run1=sum(final_run_layout)"
   ]
  },
  {
   "cell_type": "code",
   "execution_count": 30,
   "id": "38fb67b5",
   "metadata": {
    "execution": {
     "iopub.execute_input": "2023-11-21T21:47:33.193010Z",
     "iopub.status.busy": "2023-11-21T21:47:33.192632Z",
     "iopub.status.idle": "2023-11-21T21:47:33.198248Z",
     "shell.execute_reply": "2023-11-21T21:47:33.197139Z"
    },
    "papermill": {
     "duration": 0.025342,
     "end_time": "2023-11-21T21:47:33.200580",
     "exception": false,
     "start_time": "2023-11-21T21:47:33.175238",
     "status": "completed"
    },
    "tags": []
   },
   "outputs": [],
   "source": [
    "runtimel=torch.from_numpy((d1[\"config_runtime\"][:4000]-total_run1))"
   ]
  },
  {
   "cell_type": "code",
   "execution_count": 31,
   "id": "a2aac5ca",
   "metadata": {
    "execution": {
     "iopub.execute_input": "2023-11-21T21:47:33.235499Z",
     "iopub.status.busy": "2023-11-21T21:47:33.234253Z",
     "iopub.status.idle": "2023-11-21T21:48:26.488876Z",
     "shell.execute_reply": "2023-11-21T21:48:26.487708Z"
    },
    "papermill": {
     "duration": 53.275044,
     "end_time": "2023-11-21T21:48:26.491714",
     "exception": false,
     "start_time": "2023-11-21T21:47:33.216670",
     "status": "completed"
    },
    "tags": []
   },
   "outputs": [],
   "source": [
    "runtimeln=replacetensor(runtimel,4000)"
   ]
  },
  {
   "cell_type": "code",
   "execution_count": 32,
   "id": "de152074",
   "metadata": {
    "execution": {
     "iopub.execute_input": "2023-11-21T21:48:26.524484Z",
     "iopub.status.busy": "2023-11-21T21:48:26.524041Z",
     "iopub.status.idle": "2023-11-21T21:48:26.529919Z",
     "shell.execute_reply": "2023-11-21T21:48:26.528820Z"
    },
    "papermill": {
     "duration": 0.025286,
     "end_time": "2023-11-21T21:48:26.532771",
     "exception": false,
     "start_time": "2023-11-21T21:48:26.507485",
     "status": "completed"
    },
    "tags": []
   },
   "outputs": [],
   "source": [
    "torch.save(runtimeln,\"runtimelayout.pt\")"
   ]
  },
  {
   "cell_type": "code",
   "execution_count": 33,
   "id": "c9c17b99",
   "metadata": {
    "execution": {
     "iopub.execute_input": "2023-11-21T21:48:26.566826Z",
     "iopub.status.busy": "2023-11-21T21:48:26.566428Z",
     "iopub.status.idle": "2023-11-21T21:48:26.583228Z",
     "shell.execute_reply": "2023-11-21T21:48:26.581788Z"
    },
    "papermill": {
     "duration": 0.036296,
     "end_time": "2023-11-21T21:48:26.585917",
     "exception": false,
     "start_time": "2023-11-21T21:48:26.549621",
     "status": "completed"
    },
    "tags": []
   },
   "outputs": [],
   "source": [
    "new_conn=np.array(new_con)"
   ]
  },
  {
   "cell_type": "code",
   "execution_count": 34,
   "id": "3649353c",
   "metadata": {
    "execution": {
     "iopub.execute_input": "2023-11-21T21:48:26.620195Z",
     "iopub.status.busy": "2023-11-21T21:48:26.619240Z",
     "iopub.status.idle": "2023-11-21T21:48:26.624002Z",
     "shell.execute_reply": "2023-11-21T21:48:26.623040Z"
    },
    "papermill": {
     "duration": 0.024962,
     "end_time": "2023-11-21T21:48:26.626678",
     "exception": false,
     "start_time": "2023-11-21T21:48:26.601716",
     "status": "completed"
    },
    "tags": []
   },
   "outputs": [],
   "source": [
    "t_fl=torch.from_numpy(new_conn)"
   ]
  },
  {
   "cell_type": "code",
   "execution_count": 35,
   "id": "3521fb64",
   "metadata": {
    "execution": {
     "iopub.execute_input": "2023-11-21T21:48:26.661588Z",
     "iopub.status.busy": "2023-11-21T21:48:26.660652Z",
     "iopub.status.idle": "2023-11-21T21:48:26.669287Z",
     "shell.execute_reply": "2023-11-21T21:48:26.668453Z"
    },
    "papermill": {
     "duration": 0.02811,
     "end_time": "2023-11-21T21:48:26.671716",
     "exception": false,
     "start_time": "2023-11-21T21:48:26.643606",
     "status": "completed"
    },
    "tags": []
   },
   "outputs": [],
   "source": [
    "model1=GCN(ds[2],16,4000)"
   ]
  },
  {
   "cell_type": "code",
   "execution_count": 36,
   "id": "56787aa7",
   "metadata": {
    "execution": {
     "iopub.execute_input": "2023-11-21T21:48:26.705335Z",
     "iopub.status.busy": "2023-11-21T21:48:26.704582Z",
     "iopub.status.idle": "2023-11-21T21:48:26.709674Z",
     "shell.execute_reply": "2023-11-21T21:48:26.708874Z"
    },
    "papermill": {
     "duration": 0.024808,
     "end_time": "2023-11-21T21:48:26.711956",
     "exception": false,
     "start_time": "2023-11-21T21:48:26.687148",
     "status": "completed"
    },
    "tags": []
   },
   "outputs": [],
   "source": [
    "t_fl=t_fl.float()"
   ]
  },
  {
   "cell_type": "code",
   "execution_count": 37,
   "id": "aeea30a1",
   "metadata": {
    "execution": {
     "iopub.execute_input": "2023-11-21T21:48:26.744605Z",
     "iopub.status.busy": "2023-11-21T21:48:26.744222Z",
     "iopub.status.idle": "2023-11-21T21:49:08.672634Z",
     "shell.execute_reply": "2023-11-21T21:49:08.671467Z"
    },
    "papermill": {
     "duration": 41.947455,
     "end_time": "2023-11-21T21:49:08.675348",
     "exception": false,
     "start_time": "2023-11-21T21:48:26.727893",
     "status": "completed"
    },
    "tags": []
   },
   "outputs": [
    {
     "name": "stdout",
     "output_type": "stream",
     "text": [
      "tensor(475394.6875, grad_fn=<NllLossBackward0>)\n",
      "tensor(396094.0625, grad_fn=<NllLossBackward0>)\n",
      "tensor(313593.1562, grad_fn=<NllLossBackward0>)\n",
      "tensor(246938.7031, grad_fn=<NllLossBackward0>)\n",
      "tensor(179846.5312, grad_fn=<NllLossBackward0>)\n",
      "tensor(120358.0938, grad_fn=<NllLossBackward0>)\n",
      "tensor(82834.3984, grad_fn=<NllLossBackward0>)\n",
      "tensor(55787.4219, grad_fn=<NllLossBackward0>)\n",
      "tensor(32973.7695, grad_fn=<NllLossBackward0>)\n",
      "tensor(10024.3477, grad_fn=<NllLossBackward0>)\n",
      "tensor(8.2926, grad_fn=<NllLossBackward0>)\n",
      "tensor(8.2924, grad_fn=<NllLossBackward0>)\n",
      "tensor(8.2922, grad_fn=<NllLossBackward0>)\n",
      "tensor(8.2920, grad_fn=<NllLossBackward0>)\n",
      "tensor(8.2917, grad_fn=<NllLossBackward0>)\n",
      "tensor(8.2915, grad_fn=<NllLossBackward0>)\n",
      "tensor(8.2913, grad_fn=<NllLossBackward0>)\n",
      "tensor(8.2910, grad_fn=<NllLossBackward0>)\n",
      "tensor(8.2908, grad_fn=<NllLossBackward0>)\n",
      "tensor(8.2906, grad_fn=<NllLossBackward0>)\n",
      "tensor(8.2903, grad_fn=<NllLossBackward0>)\n",
      "tensor(8.2901, grad_fn=<NllLossBackward0>)\n",
      "tensor(8.2899, grad_fn=<NllLossBackward0>)\n",
      "tensor(8.2896, grad_fn=<NllLossBackward0>)\n",
      "tensor(8.2894, grad_fn=<NllLossBackward0>)\n",
      "tensor(8.2892, grad_fn=<NllLossBackward0>)\n",
      "tensor(8.2889, grad_fn=<NllLossBackward0>)\n",
      "tensor(8.2887, grad_fn=<NllLossBackward0>)\n",
      "tensor(8.2885, grad_fn=<NllLossBackward0>)\n",
      "tensor(8.2883, grad_fn=<NllLossBackward0>)\n",
      "tensor(8.2881, grad_fn=<NllLossBackward0>)\n",
      "tensor(8.2879, grad_fn=<NllLossBackward0>)\n",
      "tensor(8.2876, grad_fn=<NllLossBackward0>)\n",
      "tensor(8.2874, grad_fn=<NllLossBackward0>)\n",
      "tensor(8.2872, grad_fn=<NllLossBackward0>)\n",
      "tensor(8.2870, grad_fn=<NllLossBackward0>)\n",
      "tensor(8.2868, grad_fn=<NllLossBackward0>)\n",
      "tensor(8.2866, grad_fn=<NllLossBackward0>)\n",
      "tensor(8.2864, grad_fn=<NllLossBackward0>)\n",
      "tensor(8.2862, grad_fn=<NllLossBackward0>)\n",
      "tensor(8.2861, grad_fn=<NllLossBackward0>)\n",
      "tensor(8.2859, grad_fn=<NllLossBackward0>)\n",
      "tensor(8.2857, grad_fn=<NllLossBackward0>)\n",
      "tensor(8.2855, grad_fn=<NllLossBackward0>)\n",
      "tensor(8.2853, grad_fn=<NllLossBackward0>)\n",
      "tensor(8.2851, grad_fn=<NllLossBackward0>)\n",
      "tensor(8.2850, grad_fn=<NllLossBackward0>)\n",
      "tensor(8.2848, grad_fn=<NllLossBackward0>)\n",
      "tensor(8.2846, grad_fn=<NllLossBackward0>)\n",
      "tensor(8.2844, grad_fn=<NllLossBackward0>)\n",
      "tensor(8.2843, grad_fn=<NllLossBackward0>)\n",
      "tensor(8.2841, grad_fn=<NllLossBackward0>)\n",
      "tensor(8.2839, grad_fn=<NllLossBackward0>)\n",
      "tensor(8.2838, grad_fn=<NllLossBackward0>)\n",
      "tensor(8.2836, grad_fn=<NllLossBackward0>)\n",
      "tensor(8.2835, grad_fn=<NllLossBackward0>)\n",
      "tensor(8.2833, grad_fn=<NllLossBackward0>)\n",
      "tensor(8.2832, grad_fn=<NllLossBackward0>)\n",
      "tensor(8.2830, grad_fn=<NllLossBackward0>)\n",
      "tensor(8.2829, grad_fn=<NllLossBackward0>)\n",
      "tensor(8.2827, grad_fn=<NllLossBackward0>)\n",
      "tensor(8.2826, grad_fn=<NllLossBackward0>)\n",
      "tensor(8.2824, grad_fn=<NllLossBackward0>)\n",
      "tensor(8.2823, grad_fn=<NllLossBackward0>)\n",
      "tensor(8.2822, grad_fn=<NllLossBackward0>)\n",
      "tensor(8.2821, grad_fn=<NllLossBackward0>)\n",
      "tensor(8.2819, grad_fn=<NllLossBackward0>)\n",
      "tensor(8.2818, grad_fn=<NllLossBackward0>)\n",
      "tensor(8.2817, grad_fn=<NllLossBackward0>)\n",
      "tensor(8.2815, grad_fn=<NllLossBackward0>)\n",
      "tensor(8.2814, grad_fn=<NllLossBackward0>)\n",
      "tensor(8.2813, grad_fn=<NllLossBackward0>)\n",
      "tensor(8.2812, grad_fn=<NllLossBackward0>)\n",
      "tensor(8.2811, grad_fn=<NllLossBackward0>)\n",
      "tensor(8.2810, grad_fn=<NllLossBackward0>)\n",
      "tensor(8.2809, grad_fn=<NllLossBackward0>)\n",
      "tensor(8.2808, grad_fn=<NllLossBackward0>)\n",
      "tensor(8.2807, grad_fn=<NllLossBackward0>)\n",
      "tensor(8.2805, grad_fn=<NllLossBackward0>)\n",
      "tensor(8.2804, grad_fn=<NllLossBackward0>)\n",
      "tensor(8.2803, grad_fn=<NllLossBackward0>)\n",
      "tensor(8.2802, grad_fn=<NllLossBackward0>)\n",
      "tensor(8.2801, grad_fn=<NllLossBackward0>)\n",
      "tensor(8.2801, grad_fn=<NllLossBackward0>)\n",
      "tensor(8.2800, grad_fn=<NllLossBackward0>)\n",
      "tensor(8.2799, grad_fn=<NllLossBackward0>)\n",
      "tensor(8.2798, grad_fn=<NllLossBackward0>)\n",
      "tensor(8.2797, grad_fn=<NllLossBackward0>)\n",
      "tensor(8.2796, grad_fn=<NllLossBackward0>)\n",
      "tensor(8.2795, grad_fn=<NllLossBackward0>)\n",
      "tensor(8.2794, grad_fn=<NllLossBackward0>)\n",
      "tensor(8.2794, grad_fn=<NllLossBackward0>)\n",
      "tensor(8.2793, grad_fn=<NllLossBackward0>)\n",
      "tensor(8.2792, grad_fn=<NllLossBackward0>)\n",
      "tensor(8.2791, grad_fn=<NllLossBackward0>)\n",
      "tensor(8.2791, grad_fn=<NllLossBackward0>)\n",
      "tensor(8.2790, grad_fn=<NllLossBackward0>)\n",
      "tensor(8.2789, grad_fn=<NllLossBackward0>)\n",
      "tensor(8.2788, grad_fn=<NllLossBackward0>)\n",
      "tensor(8.2788, grad_fn=<NllLossBackward0>)\n"
     ]
    }
   ],
   "source": [
    "optimizer1 = torch.optim.Adam(model1.parameters(), lr=0.01)\n",
    "for epoch in range(100):\n",
    "    pred1 = model1(t_fl,t_e)\n",
    "    loss1 = F.cross_entropy(pred1,runtimeln)\n",
    "    optimizer1.zero_grad()\n",
    "    loss1.backward()\n",
    "    optimizer1.step()\n",
    "    print(loss1)"
   ]
  },
  {
   "cell_type": "code",
   "execution_count": 38,
   "id": "e5f51aa3",
   "metadata": {
    "execution": {
     "iopub.execute_input": "2023-11-21T21:49:08.728996Z",
     "iopub.status.busy": "2023-11-21T21:49:08.728009Z",
     "iopub.status.idle": "2023-11-21T21:49:08.733535Z",
     "shell.execute_reply": "2023-11-21T21:49:08.732672Z"
    },
    "papermill": {
     "duration": 0.034888,
     "end_time": "2023-11-21T21:49:08.735815",
     "exception": false,
     "start_time": "2023-11-21T21:49:08.700927",
     "status": "completed"
    },
    "tags": []
   },
   "outputs": [
    {
     "name": "stdout",
     "output_type": "stream",
     "text": [
      "GCN(\n",
      "  (conv1): GCNConv(24, 16)\n",
      "  (conv2): GCNConv(16, 266)\n",
      ")\n"
     ]
    }
   ],
   "source": [
    "print(model)"
   ]
  }
 ],
 "metadata": {
  "kernelspec": {
   "display_name": "Python 3",
   "language": "python",
   "name": "python3"
  },
  "language_info": {
   "codemirror_mode": {
    "name": "ipython",
    "version": 3
   },
   "file_extension": ".py",
   "mimetype": "text/x-python",
   "name": "python",
   "nbconvert_exporter": "python",
   "pygments_lexer": "ipython3",
   "version": "3.10.12"
  },
  "papermill": {
   "default_parameters": {},
   "duration": 147.274031,
   "end_time": "2023-11-21T21:49:11.064746",
   "environment_variables": {},
   "exception": null,
   "input_path": "__notebook__.ipynb",
   "output_path": "__notebook__.ipynb",
   "parameters": {},
   "start_time": "2023-11-21T21:46:43.790715",
   "version": "2.4.0"
  }
 },
 "nbformat": 4,
 "nbformat_minor": 5
}
