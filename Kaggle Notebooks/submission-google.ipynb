{
 "cells": [
  {
   "cell_type": "code",
   "execution_count": 1,
   "id": "0e6336e3",
   "metadata": {
    "_cell_guid": "b1076dfc-b9ad-4769-8c92-a6c4dae69d19",
    "_uuid": "8f2839f25d086af736a60e9eeb907d3b93b6e0e5",
    "execution": {
     "iopub.execute_input": "2025-01-15T13:40:31.434071Z",
     "iopub.status.busy": "2025-01-15T13:40:31.433711Z",
     "iopub.status.idle": "2025-01-15T13:40:32.194781Z",
     "shell.execute_reply": "2025-01-15T13:40:32.193906Z"
    },
    "papermill": {
     "duration": 0.766996,
     "end_time": "2025-01-15T13:40:32.197177",
     "exception": false,
     "start_time": "2025-01-15T13:40:31.430181",
     "status": "completed"
    },
    "tags": []
   },
   "outputs": [],
   "source": [
    "import numpy as np\n",
    "import pandas as pd "
   ]
  },
  {
   "cell_type": "code",
   "execution_count": 2,
   "id": "43cbaa03",
   "metadata": {
    "execution": {
     "iopub.execute_input": "2025-01-15T13:40:32.203634Z",
     "iopub.status.busy": "2025-01-15T13:40:32.203205Z",
     "iopub.status.idle": "2025-01-15T13:40:32.239940Z",
     "shell.execute_reply": "2025-01-15T13:40:32.238915Z"
    },
    "papermill": {
     "duration": 0.043264,
     "end_time": "2025-01-15T13:40:32.242353",
     "exception": false,
     "start_time": "2025-01-15T13:40:32.199089",
     "status": "completed"
    },
    "tags": []
   },
   "outputs": [],
   "source": [
    "sub=pd.read_csv(\"/kaggle/input/subfile/submission (13).csv\")"
   ]
  },
  {
   "cell_type": "code",
   "execution_count": 3,
   "id": "c5a27eb5",
   "metadata": {
    "execution": {
     "iopub.execute_input": "2025-01-15T13:40:32.247836Z",
     "iopub.status.busy": "2025-01-15T13:40:32.246947Z",
     "iopub.status.idle": "2025-01-15T13:40:32.268085Z",
     "shell.execute_reply": "2025-01-15T13:40:32.266934Z"
    },
    "papermill": {
     "duration": 0.026154,
     "end_time": "2025-01-15T13:40:32.270302",
     "exception": false,
     "start_time": "2025-01-15T13:40:32.244148",
     "status": "completed"
    },
    "tags": []
   },
   "outputs": [
    {
     "data": {
      "text/html": [
       "<div>\n",
       "<style scoped>\n",
       "    .dataframe tbody tr th:only-of-type {\n",
       "        vertical-align: middle;\n",
       "    }\n",
       "\n",
       "    .dataframe tbody tr th {\n",
       "        vertical-align: top;\n",
       "    }\n",
       "\n",
       "    .dataframe thead th {\n",
       "        text-align: right;\n",
       "    }\n",
       "</style>\n",
       "<table border=\"1\" class=\"dataframe\">\n",
       "  <thead>\n",
       "    <tr style=\"text-align: right;\">\n",
       "      <th></th>\n",
       "      <th>ID</th>\n",
       "      <th>TopConfigs</th>\n",
       "    </tr>\n",
       "  </thead>\n",
       "  <tbody>\n",
       "    <tr>\n",
       "      <th>0</th>\n",
       "      <td>tile:xla:d6f5f54247bd1e58a10b9e7062c636ab</td>\n",
       "      <td>46;194;24;198;16</td>\n",
       "    </tr>\n",
       "    <tr>\n",
       "      <th>1</th>\n",
       "      <td>tile:xla:e3a655daa38e34ec240df959b650ac16</td>\n",
       "      <td>337;37;183;443;269</td>\n",
       "    </tr>\n",
       "    <tr>\n",
       "      <th>2</th>\n",
       "      <td>tile:xla:f8c2c1a1098b2a361c26df668b286c87</td>\n",
       "      <td>673;609;842;821;726</td>\n",
       "    </tr>\n",
       "    <tr>\n",
       "      <th>3</th>\n",
       "      <td>tile:xla:4dd1716853ed46ee4e7d09ede1732de8</td>\n",
       "      <td>112;122;88;143;108</td>\n",
       "    </tr>\n",
       "    <tr>\n",
       "      <th>4</th>\n",
       "      <td>tile:xla:d0a69155b6340748c36724e4bfc34be3</td>\n",
       "      <td>80;85;17;124;129</td>\n",
       "    </tr>\n",
       "    <tr>\n",
       "      <th>...</th>\n",
       "      <td>...</td>\n",
       "      <td>...</td>\n",
       "    </tr>\n",
       "    <tr>\n",
       "      <th>889</th>\n",
       "      <td>layout:nlp:random:60880ed76de53f4d7a1b960b24f2...</td>\n",
       "      <td>0;1;2;3;4;5;6;7;8;9;10;11;12;13;14;15;16;17;18...</td>\n",
       "    </tr>\n",
       "    <tr>\n",
       "      <th>890</th>\n",
       "      <td>layout:nlp:random:23559853d9702baaaacbb0c83fd3...</td>\n",
       "      <td>0;1;2;3;4;5;6;7;8;9;10;11;12;13;14;15;16;17;18...</td>\n",
       "    </tr>\n",
       "    <tr>\n",
       "      <th>891</th>\n",
       "      <td>layout:nlp:random:f6c146fc5cf10be4f3accbaca989...</td>\n",
       "      <td>0;1;2;3;4;5;6;7;8;9;10;11;12;13;14;15;16;17;18...</td>\n",
       "    </tr>\n",
       "    <tr>\n",
       "      <th>892</th>\n",
       "      <td>layout:nlp:random:32531d07a084b319dce484f53a4c...</td>\n",
       "      <td>0;1;2;3;4;5;6;7;8;9;10;11;12;13;14;15;16;17;18...</td>\n",
       "    </tr>\n",
       "    <tr>\n",
       "      <th>893</th>\n",
       "      <td>layout:nlp:random:3a0c5517a87df8d82fd637b83298...</td>\n",
       "      <td>0;1;2;3;4;5;6;7;8;9;10;11;12;13;14;15;16;17;18...</td>\n",
       "    </tr>\n",
       "  </tbody>\n",
       "</table>\n",
       "<p>894 rows × 2 columns</p>\n",
       "</div>"
      ],
      "text/plain": [
       "                                                    ID  \\\n",
       "0            tile:xla:d6f5f54247bd1e58a10b9e7062c636ab   \n",
       "1            tile:xla:e3a655daa38e34ec240df959b650ac16   \n",
       "2            tile:xla:f8c2c1a1098b2a361c26df668b286c87   \n",
       "3            tile:xla:4dd1716853ed46ee4e7d09ede1732de8   \n",
       "4            tile:xla:d0a69155b6340748c36724e4bfc34be3   \n",
       "..                                                 ...   \n",
       "889  layout:nlp:random:60880ed76de53f4d7a1b960b24f2...   \n",
       "890  layout:nlp:random:23559853d9702baaaacbb0c83fd3...   \n",
       "891  layout:nlp:random:f6c146fc5cf10be4f3accbaca989...   \n",
       "892  layout:nlp:random:32531d07a084b319dce484f53a4c...   \n",
       "893  layout:nlp:random:3a0c5517a87df8d82fd637b83298...   \n",
       "\n",
       "                                            TopConfigs  \n",
       "0                                     46;194;24;198;16  \n",
       "1                                   337;37;183;443;269  \n",
       "2                                  673;609;842;821;726  \n",
       "3                                   112;122;88;143;108  \n",
       "4                                     80;85;17;124;129  \n",
       "..                                                 ...  \n",
       "889  0;1;2;3;4;5;6;7;8;9;10;11;12;13;14;15;16;17;18...  \n",
       "890  0;1;2;3;4;5;6;7;8;9;10;11;12;13;14;15;16;17;18...  \n",
       "891  0;1;2;3;4;5;6;7;8;9;10;11;12;13;14;15;16;17;18...  \n",
       "892  0;1;2;3;4;5;6;7;8;9;10;11;12;13;14;15;16;17;18...  \n",
       "893  0;1;2;3;4;5;6;7;8;9;10;11;12;13;14;15;16;17;18...  \n",
       "\n",
       "[894 rows x 2 columns]"
      ]
     },
     "execution_count": 3,
     "metadata": {},
     "output_type": "execute_result"
    }
   ],
   "source": [
    "sub"
   ]
  },
  {
   "cell_type": "markdown",
   "id": "dc88eb2e",
   "metadata": {
    "papermill": {
     "duration": 0.001612,
     "end_time": "2025-01-15T13:40:32.273878",
     "exception": false,
     "start_time": "2025-01-15T13:40:32.272266",
     "status": "completed"
    },
    "tags": []
   },
   "source": []
  }
 ],
 "metadata": {
  "kaggle": {
   "accelerator": "none",
   "dataSources": [
    {
     "datasetId": 3972148,
     "sourceId": 6917683,
     "sourceType": "datasetVersion"
    }
   ],
   "dockerImageVersionId": 30558,
   "isGpuEnabled": false,
   "isInternetEnabled": true,
   "language": "python",
   "sourceType": "notebook"
  },
  "kernelspec": {
   "display_name": "Python 3",
   "language": "python",
   "name": "python3"
  },
  "language_info": {
   "codemirror_mode": {
    "name": "ipython",
    "version": 3
   },
   "file_extension": ".py",
   "mimetype": "text/x-python",
   "name": "python",
   "nbconvert_exporter": "python",
   "pygments_lexer": "ipython3",
   "version": "3.10.12"
  },
  "papermill": {
   "default_parameters": {},
   "duration": 4.708172,
   "end_time": "2025-01-15T13:40:32.694789",
   "environment_variables": {},
   "exception": null,
   "input_path": "__notebook__.ipynb",
   "output_path": "__notebook__.ipynb",
   "parameters": {},
   "start_time": "2025-01-15T13:40:27.986617",
   "version": "2.4.0"
  }
 },
 "nbformat": 4,
 "nbformat_minor": 5
}
